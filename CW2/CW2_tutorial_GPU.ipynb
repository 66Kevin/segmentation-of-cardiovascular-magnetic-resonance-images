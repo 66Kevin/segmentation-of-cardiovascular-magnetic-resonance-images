{
 "cells": [
  {
   "cell_type": "markdown",
   "metadata": {
    "id": "2guthgOz-Ssm"
   },
   "source": [
    "# Coursework 2 for Cardiac MR Image Segmentation (2020-2021)\n",
    "\n",
    "After you have gone through the coursework description, this tutorial is designed to further helps you understand the problem and therefore enable you to propose a good solution for this coursework. You will learn:\n",
    "\n",
    "* how to load and save images with OpenCV\n",
    "* how to train a segmentation model with Pytorch\n",
    "* how to evaluate the trained model"
   ]
  },
  {
   "cell_type": "markdown",
   "metadata": {
    "id": "gsnVbP35-Sso"
   },
   "source": [
    "## 1. Load, show, and save images with OpenCV\n",
    "\n",
    "OpenCV is an open-source computer vision library which helps us to manipulate image data. In this section, we will cover:\n",
    "* Loading an image from file with imread()\n",
    "* Displaying the image with matplotlib plt.imshow()\n",
    "* Saving an image with imwrite()\n",
    "\n",
    "For a more comprehensive study of OpenCV, we encourage you to check the official [OpenCV documentation](https://docs.opencv.org/master/index.html)."
   ]
  },
  {
   "cell_type": "code",
   "execution_count": 11,
   "metadata": {
    "id": "C7ZvSiY3qW_U"
   },
   "outputs": [],
   "source": [
    "from matplotlib import pyplot as plt\n",
    "def show_image_mask(img, mask, cmap='gray'): # visualisation\n",
    "    fig = plt.figure(figsize=(5,5))\n",
    "    plt.subplot(1, 2, 1)\n",
    "    plt.imshow(img, cmap=cmap)\n",
    "    plt.axis('off')\n",
    "    plt.subplot(1, 2, 2)\n",
    "    plt.imshow(mask, cmap=cmap)\n",
    "    plt.axis('off')"
   ]
  },
  {
   "cell_type": "code",
   "execution_count": 26,
   "metadata": {
    "id": "EN5WJ_XG-Sso"
   },
   "outputs": [
    {
     "data": {
      "image/png": "[encoded data removed]",
      "text/plain": [
       "<Figure size 360x360 with 2 Axes>"
      ]
     },
     "metadata": {
      "needs_background": "light"
     },
     "output_type": "display_data"
    },
    {
     "data": {
      "text/plain": [
       "True"
      ]
     },
     "execution_count": 26,
     "metadata": {},
     "output_type": "execute_result"
    }
   ],
   "source": [
    "import os\n",
    "import cv2 #import OpenCV\n",
    "\n",
    "data_dir = './data/train'\n",
    "image = cv2.imread(os.path.join(data_dir,'image','cmr1.png'), cv2.IMREAD_UNCHANGED)\n",
    "mask = cv2.imread(os.path.join(data_dir,'mask','cmr1_mask.png'), cv2.IMREAD_UNCHANGED)\n",
    "show_image_mask(image, mask, cmap='gray')\n",
    "plt.pause(1)\n",
    "cv2.imwrite(os.path.join('./','cmr1.png'), mask*85)"
   ]
  },
  {
   "cell_type": "markdown",
   "metadata": {
    "id": "7UDvsGZnYfHS"
   },
   "source": [
    "Note: You will no doubt notice that the mask images appear to be completely black with no sign of any segmentations. This is because the max intensity of pixels in an 8-bit png image is 255 and your image viewer software only sees 255 as white. For those values close to zero, you will only see dark values. This is the case for our masks as the background, the right ventricle, the myocardium, and the left ventricle in each image are 0, 1, 2, and 3, respectively. All of which are close to zero. If we multiply the original mask by 85 and save the result to the directory where this code is, we can see the heart indeed shows up. "
   ]
  },
  {
   "cell_type": "markdown",
   "metadata": {
    "id": "hULAX3WH-Sss"
   },
   "source": [
    "## 2 Define a segmentation model with Pytorch\n",
    "\n",
    "In this section, we expect you to learn how to:\n",
    "* Define a Segmentation Model\n",
    "* Define a DataLoader that inputs images to the Model\n",
    "* Define training parameters and train the model\n",
    "* Test the trained model with a new input image"
   ]
  },
  {
   "cell_type": "markdown",
   "metadata": {
    "id": "IrKFgoZvUbeg"
   },
   "source": [
    "### 2.1 Define a DataLoader"
   ]
  },
  {
   "cell_type": "markdown",
   "metadata": {
    "id": "kC9s43MqqW_U"
   },
   "source": [
    "Below we provide you with a dataloader to use in your assigment. You will only need to focus on the development of your model and loss function.\n",
    "\n"
   ]
  },
  {
   "cell_type": "code",
   "execution_count": 53,
   "metadata": {
    "id": "XYrD95T8qz8T"
   },
   "outputs": [],
   "source": [
    "import torch\n",
    "import torch.utils.data as data\n",
    "import cv2\n",
    "import os\n",
    "from glob import glob\n",
    "\n",
    "class TrainDataset(data.Dataset):\n",
    "    def __init__(self, root=''):\n",
    "        super(TrainDataset, self).__init__()\n",
    "        self.img_files = glob(os.path.join(root,'image','*.png'))\n",
    "        self.mask_files = []\n",
    "        for img_path in self.img_files:\n",
    "            basename = os.path.basename(img_path)\n",
    "            self.mask_files.append(os.path.join(root,'mask',basename[:-4]+'_mask.png'))\n",
    "            \n",
    "\n",
    "    def __getitem__(self, index):\n",
    "            img_path = self.img_files[index]\n",
    "            mask_path = self.mask_files[index]\n",
    "            data = cv2.imread(img_path, cv2.IMREAD_UNCHANGED)\n",
    "            label = cv2.imread(mask_path, cv2.IMREAD_UNCHANGED)\n",
    "            return torch.from_numpy(data).float(), torch.from_numpy(label).float()\n",
    "\n",
    "    def __len__(self):\n",
    "        return len(self.img_files)\n",
    "\n",
    "class TestDataset(data.Dataset):\n",
    "    def __init__(self, root=''):\n",
    "        super(TestDataset, self).__init__()\n",
    "        self.img_files = glob(os.path.join(root,'image','*.png'))\n",
    "\n",
    "    def __getitem__(self, index):\n",
    "            img_path = self.img_files[index]\n",
    "            data = cv2.imread(img_path, cv2.IMREAD_UNCHANGED)\n",
    "            return torch.from_numpy(data).float()\n",
    "\n",
    "    def __len__(self):\n",
    "        return len(self.img_files)\n"
   ]
  },
  {
   "cell_type": "markdown",
   "metadata": {
    "id": "82UAfnwSUgc_"
   },
   "source": [
    "### 2.2 Define a Segmenatation Model"
   ]
  },
  {
   "cell_type": "markdown",
   "metadata": {
    "id": "gEIkCqdfYnIn"
   },
   "source": [
    "You will need to define your CNN model for segmentation below"
   ]
  },
  {
   "cell_type": "code",
   "execution_count": 69,
   "metadata": {
    "id": "-W6532hFXa_g"
   },
   "outputs": [
    {
     "name": "stdout",
     "output_type": "stream",
     "text": [
      "cpu\n",
      "CNNSEG(\n",
      "  (encoder1): CNNblock(\n",
      "    (double_conv): Sequential(\n",
      "      (0): Conv2d(1, 96, kernel_size=(3, 3), stride=(1, 1), padding=(1, 1), bias=False)\n",
      "      (1): BatchNorm2d(96, eps=1e-05, momentum=0.1, affine=True, track_running_stats=True)\n",
      "      (2): ReLU(inplace=True)\n",
      "      (3): Conv2d(96, 96, kernel_size=(3, 3), stride=(1, 1), padding=(1, 1), bias=False)\n",
      "      (4): BatchNorm2d(96, eps=1e-05, momentum=0.1, affine=True, track_running_stats=True)\n",
      "      (5): ReLU(inplace=True)\n",
      "    )\n",
      "  )\n",
      "  (pool1): MaxPool2d(kernel_size=2, stride=2, padding=0, dilation=1, ceil_mode=False)\n",
      "  (encoder2): CNNblock(\n",
      "    (double_conv): Sequential(\n",
      "      (0): Conv2d(96, 192, kernel_size=(3, 3), stride=(1, 1), padding=(1, 1), bias=False)\n",
      "      (1): BatchNorm2d(192, eps=1e-05, momentum=0.1, affine=True, track_running_stats=True)\n",
      "      (2): ReLU(inplace=True)\n",
      "      (3): Conv2d(192, 192, kernel_size=(3, 3), stride=(1, 1), padding=(1, 1), bias=False)\n",
      "      (4): BatchNorm2d(192, eps=1e-05, momentum=0.1, affine=True, track_running_stats=True)\n",
      "      (5): ReLU(inplace=True)\n",
      "    )\n",
      "  )\n",
      "  (pool2): MaxPool2d(kernel_size=2, stride=2, padding=0, dilation=1, ceil_mode=False)\n",
      "  (encoder3): CNNblock(\n",
      "    (double_conv): Sequential(\n",
      "      (0): Conv2d(192, 384, kernel_size=(3, 3), stride=(1, 1), padding=(1, 1), bias=False)\n",
      "      (1): BatchNorm2d(384, eps=1e-05, momentum=0.1, affine=True, track_running_stats=True)\n",
      "      (2): ReLU(inplace=True)\n",
      "      (3): Conv2d(384, 384, kernel_size=(3, 3), stride=(1, 1), padding=(1, 1), bias=False)\n",
      "      (4): BatchNorm2d(384, eps=1e-05, momentum=0.1, affine=True, track_running_stats=True)\n",
      "      (5): ReLU(inplace=True)\n",
      "    )\n",
      "  )\n",
      "  (pool3): MaxPool2d(kernel_size=2, stride=2, padding=0, dilation=1, ceil_mode=False)\n",
      "  (encoder4): CNNblock(\n",
      "    (double_conv): Sequential(\n",
      "      (0): Conv2d(384, 768, kernel_size=(3, 3), stride=(1, 1), padding=(1, 1), bias=False)\n",
      "      (1): BatchNorm2d(768, eps=1e-05, momentum=0.1, affine=True, track_running_stats=True)\n",
      "      (2): ReLU(inplace=True)\n",
      "      (3): Conv2d(768, 768, kernel_size=(3, 3), stride=(1, 1), padding=(1, 1), bias=False)\n",
      "      (4): BatchNorm2d(768, eps=1e-05, momentum=0.1, affine=True, track_running_stats=True)\n",
      "      (5): ReLU(inplace=True)\n",
      "    )\n",
      "  )\n",
      "  (pool4): MaxPool2d(kernel_size=2, stride=2, padding=0, dilation=1, ceil_mode=False)\n",
      "  (bottleneck): CNNblock(\n",
      "    (double_conv): Sequential(\n",
      "      (0): Conv2d(768, 1536, kernel_size=(3, 3), stride=(1, 1), padding=(1, 1), bias=False)\n",
      "      (1): BatchNorm2d(1536, eps=1e-05, momentum=0.1, affine=True, track_running_stats=True)\n",
      "      (2): ReLU(inplace=True)\n",
      "      (3): Conv2d(1536, 1536, kernel_size=(3, 3), stride=(1, 1), padding=(1, 1), bias=False)\n",
      "      (4): BatchNorm2d(1536, eps=1e-05, momentum=0.1, affine=True, track_running_stats=True)\n",
      "      (5): ReLU(inplace=True)\n",
      "    )\n",
      "  )\n",
      "  (upconv4): ConvTranspose2d(1536, 768, kernel_size=(2, 2), stride=(2, 2))\n",
      "  (decoder4): CNNblock(\n",
      "    (double_conv): Sequential(\n",
      "      (0): Conv2d(1536, 768, kernel_size=(3, 3), stride=(1, 1), padding=(1, 1), bias=False)\n",
      "      (1): BatchNorm2d(768, eps=1e-05, momentum=0.1, affine=True, track_running_stats=True)\n",
      "      (2): ReLU(inplace=True)\n",
      "      (3): Conv2d(768, 768, kernel_size=(3, 3), stride=(1, 1), padding=(1, 1), bias=False)\n",
      "      (4): BatchNorm2d(768, eps=1e-05, momentum=0.1, affine=True, track_running_stats=True)\n",
      "      (5): ReLU(inplace=True)\n",
      "    )\n",
      "  )\n",
      "  (upconv3): ConvTranspose2d(768, 384, kernel_size=(2, 2), stride=(2, 2))\n",
      "  (decoder3): CNNblock(\n",
      "    (double_conv): Sequential(\n",
      "      (0): Conv2d(768, 384, kernel_size=(3, 3), stride=(1, 1), padding=(1, 1), bias=False)\n",
      "      (1): BatchNorm2d(384, eps=1e-05, momentum=0.1, affine=True, track_running_stats=True)\n",
      "      (2): ReLU(inplace=True)\n",
      "      (3): Conv2d(384, 384, kernel_size=(3, 3), stride=(1, 1), padding=(1, 1), bias=False)\n",
      "      (4): BatchNorm2d(384, eps=1e-05, momentum=0.1, affine=True, track_running_stats=True)\n",
      "      (5): ReLU(inplace=True)\n",
      "    )\n",
      "  )\n",
      "  (upconv2): ConvTranspose2d(384, 192, kernel_size=(2, 2), stride=(2, 2))\n",
      "  (decoder2): CNNblock(\n",
      "    (double_conv): Sequential(\n",
      "      (0): Conv2d(384, 192, kernel_size=(3, 3), stride=(1, 1), padding=(1, 1), bias=False)\n",
      "      (1): BatchNorm2d(192, eps=1e-05, momentum=0.1, affine=True, track_running_stats=True)\n",
      "      (2): ReLU(inplace=True)\n",
      "      (3): Conv2d(192, 192, kernel_size=(3, 3), stride=(1, 1), padding=(1, 1), bias=False)\n",
      "      (4): BatchNorm2d(192, eps=1e-05, momentum=0.1, affine=True, track_running_stats=True)\n",
      "      (5): ReLU(inplace=True)\n",
      "    )\n",
      "  )\n",
      "  (upconv1): ConvTranspose2d(192, 96, kernel_size=(2, 2), stride=(2, 2))\n",
      "  (decoder1): CNNblock(\n",
      "    (double_conv): Sequential(\n",
      "      (0): Conv2d(192, 96, kernel_size=(3, 3), stride=(1, 1), padding=(1, 1), bias=False)\n",
      "      (1): BatchNorm2d(96, eps=1e-05, momentum=0.1, affine=True, track_running_stats=True)\n",
      "      (2): ReLU(inplace=True)\n",
      "      (3): Conv2d(96, 96, kernel_size=(3, 3), stride=(1, 1), padding=(1, 1), bias=False)\n",
      "      (4): BatchNorm2d(96, eps=1e-05, momentum=0.1, affine=True, track_running_stats=True)\n",
      "      (5): ReLU(inplace=True)\n",
      "    )\n",
      "  )\n",
      "  (conv): Conv2d(96, 4, kernel_size=(1, 1), stride=(1, 1))\n",
      ")\n"
     ]
    }
   ],
   "source": [
    "import torch\n",
    "from torch import nn\n",
    "\n",
    "\n",
    "class CNNblock(nn.Module):\n",
    "    def __init__(self, in_channels, features):\n",
    "        super(CNNblock, self).__init__()\n",
    "        self.double_conv = nn.Sequential(\n",
    "            nn.Conv2d(in_channels=in_channels,out_channels=features,kernel_size=3,padding=1,bias=False,),\n",
    "            nn.BatchNorm2d(num_features=features),\n",
    "            nn.ReLU(inplace=True),\n",
    "            nn.Conv2d(in_channels=features,out_channels=features,kernel_size=3,padding=1,bias=False,),\n",
    "            nn.BatchNorm2d(num_features=features),\n",
    "            nn.ReLU(inplace=True),\n",
    "        )\n",
    "\n",
    "    def forward(self, x):\n",
    "        return self.double_conv(x)\n",
    "\n",
    "\n",
    "class CNNSEG(nn.Module):\n",
    "\n",
    "    def __init__(self, in_channels=1, out_channels=4, features_size=96, debug=True):\n",
    "        super(CNNSEG, self).__init__()\n",
    "\n",
    "        features = features_size\n",
    "        self.debug = debug\n",
    "        self.encoder1 = CNNblock(in_channels, features)#[1,96,96,96]\n",
    "        self.pool1 = nn.MaxPool2d(kernel_size=2, stride=2)\n",
    "        self.encoder2 = CNNblock(features, features*2)#[1,192,48,48]\n",
    "        self.pool2 = nn.MaxPool2d(kernel_size=2, stride=2)\n",
    "        self.encoder3 = CNNblock(features*2, features*4)#[1,384,24,24]\n",
    "        self.pool3 = nn.MaxPool2d(kernel_size=2, stride=2)\n",
    "        self.encoder4 = CNNblock(features*4, features*8)#[1,768,12,12]\n",
    "        self.pool4 = nn.MaxPool2d(kernel_size=2, stride=2)\n",
    "\n",
    "        self.bottleneck = CNNblock(features*8, features*16)#[1,1536,6,6]\n",
    "\n",
    "        self.upconv4 = nn.ConvTranspose2d(features*16, features*8, kernel_size=2, stride=2)\n",
    "        self.decoder4 = CNNblock(features*16, features*8)#[1,768,12,12]\n",
    "        self.upconv3 = nn.ConvTranspose2d(features*8, features*4, kernel_size=2, stride=2)\n",
    "        self.decoder3 = CNNblock(features*8, features*4)#[1,384,24,24]\n",
    "        self.upconv2 = nn.ConvTranspose2d(features*4, features*2, kernel_size=2, stride=2)\n",
    "        self.decoder2 = CNNblock(features*4, features*2)#[1,192,48,48]\n",
    "        self.upconv1 = nn.ConvTranspose2d(features*2, features, kernel_size=2, stride=2)\n",
    "        self.decoder1 = CNNblock(features*2, features) #[1,96,96,96]\n",
    "\n",
    "        self.conv = nn.Conv2d(in_channels=features, out_channels=out_channels, kernel_size=1)\n",
    "                                                         #[1,4,96,96]\n",
    "                                                                   \n",
    "    def forward(self, x):\n",
    "        enc1 = self.encoder1(x)\n",
    "        pool1 = self.pool1(enc1)\n",
    "        enc2 = self.encoder2(pool1)\n",
    "        pool2 = self.pool2(enc2)\n",
    "        enc3 = self.encoder3(pool2)\n",
    "        pool3 = self.pool3(enc3)\n",
    "        enc4 = self.encoder4(pool3)\n",
    "        pool4 = self.pool4(enc4)\n",
    "\n",
    "        bottleneck = self.bottleneck(pool4)\n",
    "\n",
    "        dec4 = self.upconv4(bottleneck)\n",
    "        dec4 = self.decoder4(torch.cat((dec4, enc4), dim=1))\n",
    "        dec3 = self.upconv3(dec4)\n",
    "        dec3 = self.decoder3(torch.cat((dec3, enc3), dim=1))\n",
    "        dec2 = self.upconv2(dec3)\n",
    "        dec2 = self.decoder2(torch.cat((dec2, enc2), dim=1))\n",
    "        dec1 = self.upconv1(dec2)\n",
    "        dec1 = self.decoder1(torch.cat((dec1, enc1), dim=1))\n",
    "\n",
    "        if self.debug:\n",
    "            print('encode1:', enc1.size())\n",
    "            print('encode2:', enc2.size())\n",
    "            print('encode3:', enc3.size())\n",
    "            print('encode4:', enc4.size())\n",
    "            print('bottleneck:', bottleneck.size())\n",
    "            print('decode4:', dec4.size())\n",
    "            print('decode3:', dec3.size())\n",
    "            print('decode2:', dec2.size())\n",
    "            print('decode1:', dec1.size())\n",
    "            print(self.conv(dec1).size())\n",
    "\n",
    "        return torch.sigmoid(self.conv(dec1))\n",
    "\n",
    "device = torch.device('cuda' if torch.cuda.is_available() else 'cpu')\n",
    "model = CNNSEG().to(device)\n",
    "\n",
    "print(device)\n",
    "print(model)"
   ]
  },
  {
   "cell_type": "markdown",
   "metadata": {
    "id": "nRdPFTa9a34J"
   },
   "source": [
    "### 2.3 Define a Loss function and optimizer\n",
    "\n",
    "You will need to define a loss function and an optimizer. torch.nn has a variety of readymade loss functions, although you may wish to create your own instead. torch.optim has a variety of optimizers, it is advised that you use one of these."
   ]
  },
  {
   "cell_type": "code",
   "execution_count": 19,
   "metadata": {
    "id": "QRjOZGXRbUFT"
   },
   "outputs": [],
   "source": [
    "Loss = nn.CrossEntropyLoss()\n",
    "optimizer = torch.optim.Adam(model.parameters(), lr=0.001)"
   ]
  },
  {
   "cell_type": "markdown",
   "metadata": {
    "id": "grDz3fR1qW_V"
   },
   "source": [
    "### 2.4 Training\n",
    "\n",
    "As most of you will use CPUs to train the model, expect your models to take **30 minutes to train if not longer depending on network architecture**. To save time, you should not be using all training data until your model is well developed. If you are running your model on a GPU training should be significantly faster. During the training process, you may want to save the checkpoints as follows:\n",
    "\n",
    "```\n",
    "# Saving checkpoints for validation/testing\n",
    "torch.save(model.state_dict(), path)\n",
    "```\n",
    "The saved checkpoints can be used to load at a later date for validation and testing. Here we give some example code for training a model. Note that you need to specify the max iterations you want to train the model."
   ]
  },
  {
   "cell_type": "code",
   "execution_count": 36,
   "metadata": {
    "id": "iCb4bxVVchxf"
   },
   "outputs": [
    {
     "name": "stdout",
     "output_type": "stream",
     "text": [
      "Epoch:1/50 :: Ave_train_loss:1.4302\n",
      "Epoch training time:134.2391\n",
      "----------\n",
      "val_loss:1.3933\n",
      "save the best model!\n",
      "val_loss:1.3921\n",
      "save the best model!\n"
     ]
    },
    {
     "ename": "KeyboardInterrupt",
     "evalue": "",
     "output_type": "error",
     "traceback": [
      "\u001b[0;31m---------------------------------------------------------------------------\u001b[0m",
      "\u001b[0;31mKeyboardInterrupt\u001b[0m                         Traceback (most recent call last)",
      "\u001b[0;32m<ipython-input-36-bb210cd3ab5f>\u001b[0m in \u001b[0;36m<module>\u001b[0;34m\u001b[0m\n\u001b[1;32m     53\u001b[0m \u001b[0;34m\u001b[0m\u001b[0m\n\u001b[1;32m     54\u001b[0m         \u001b[0;31m# Write your FORWARD below\u001b[0m\u001b[0;34m\u001b[0m\u001b[0;34m\u001b[0m\u001b[0;34m\u001b[0m\u001b[0m\n\u001b[0;32m---> 55\u001b[0;31m         \u001b[0my_pred\u001b[0m \u001b[0;34m=\u001b[0m \u001b[0mmodel\u001b[0m\u001b[0;34m(\u001b[0m\u001b[0mimg\u001b[0m\u001b[0;34m)\u001b[0m\u001b[0;34m\u001b[0m\u001b[0;34m\u001b[0m\u001b[0m\n\u001b[0m\u001b[1;32m     56\u001b[0m \u001b[0;34m\u001b[0m\u001b[0m\n\u001b[1;32m     57\u001b[0m         \u001b[0;31m# Then write your BACKWARD & OPTIMIZE below\u001b[0m\u001b[0;34m\u001b[0m\u001b[0;34m\u001b[0m\u001b[0;34m\u001b[0m\u001b[0m\n",
      "\u001b[0;32m~/opt/anaconda3/lib/python3.7/site-packages/torch/nn/modules/module.py\u001b[0m in \u001b[0;36m_call_impl\u001b[0;34m(self, *input, **kwargs)\u001b[0m\n\u001b[1;32m    725\u001b[0m             \u001b[0mresult\u001b[0m \u001b[0;34m=\u001b[0m \u001b[0mself\u001b[0m\u001b[0;34m.\u001b[0m\u001b[0m_slow_forward\u001b[0m\u001b[0;34m(\u001b[0m\u001b[0;34m*\u001b[0m\u001b[0minput\u001b[0m\u001b[0;34m,\u001b[0m \u001b[0;34m**\u001b[0m\u001b[0mkwargs\u001b[0m\u001b[0;34m)\u001b[0m\u001b[0;34m\u001b[0m\u001b[0;34m\u001b[0m\u001b[0m\n\u001b[1;32m    726\u001b[0m         \u001b[0;32melse\u001b[0m\u001b[0;34m:\u001b[0m\u001b[0;34m\u001b[0m\u001b[0;34m\u001b[0m\u001b[0m\n\u001b[0;32m--> 727\u001b[0;31m             \u001b[0mresult\u001b[0m \u001b[0;34m=\u001b[0m \u001b[0mself\u001b[0m\u001b[0;34m.\u001b[0m\u001b[0mforward\u001b[0m\u001b[0;34m(\u001b[0m\u001b[0;34m*\u001b[0m\u001b[0minput\u001b[0m\u001b[0;34m,\u001b[0m \u001b[0;34m**\u001b[0m\u001b[0mkwargs\u001b[0m\u001b[0;34m)\u001b[0m\u001b[0;34m\u001b[0m\u001b[0;34m\u001b[0m\u001b[0m\n\u001b[0m\u001b[1;32m    728\u001b[0m         for hook in itertools.chain(\n\u001b[1;32m    729\u001b[0m                 \u001b[0m_global_forward_hooks\u001b[0m\u001b[0;34m.\u001b[0m\u001b[0mvalues\u001b[0m\u001b[0;34m(\u001b[0m\u001b[0;34m)\u001b[0m\u001b[0;34m,\u001b[0m\u001b[0;34m\u001b[0m\u001b[0;34m\u001b[0m\u001b[0m\n",
      "\u001b[0;32m<ipython-input-35-4567edd9efe2>\u001b[0m in \u001b[0;36mforward\u001b[0;34m(self, x)\u001b[0m\n\u001b[1;32m     60\u001b[0m         \u001b[0mbottleneck\u001b[0m \u001b[0;34m=\u001b[0m \u001b[0mself\u001b[0m\u001b[0;34m.\u001b[0m\u001b[0mbottleneck\u001b[0m\u001b[0;34m(\u001b[0m\u001b[0mpool4\u001b[0m\u001b[0;34m)\u001b[0m\u001b[0;34m\u001b[0m\u001b[0;34m\u001b[0m\u001b[0m\n\u001b[1;32m     61\u001b[0m \u001b[0;34m\u001b[0m\u001b[0m\n\u001b[0;32m---> 62\u001b[0;31m         \u001b[0mdec4\u001b[0m \u001b[0;34m=\u001b[0m \u001b[0mself\u001b[0m\u001b[0;34m.\u001b[0m\u001b[0mupconv4\u001b[0m\u001b[0;34m(\u001b[0m\u001b[0mbottleneck\u001b[0m\u001b[0;34m)\u001b[0m\u001b[0;34m\u001b[0m\u001b[0;34m\u001b[0m\u001b[0m\n\u001b[0m\u001b[1;32m     63\u001b[0m         \u001b[0mdec4\u001b[0m \u001b[0;34m=\u001b[0m \u001b[0mself\u001b[0m\u001b[0;34m.\u001b[0m\u001b[0mdecoder4\u001b[0m\u001b[0;34m(\u001b[0m\u001b[0mtorch\u001b[0m\u001b[0;34m.\u001b[0m\u001b[0mcat\u001b[0m\u001b[0;34m(\u001b[0m\u001b[0;34m(\u001b[0m\u001b[0mdec4\u001b[0m\u001b[0;34m,\u001b[0m \u001b[0menc4\u001b[0m\u001b[0;34m)\u001b[0m\u001b[0;34m,\u001b[0m \u001b[0mdim\u001b[0m\u001b[0;34m=\u001b[0m\u001b[0;36m1\u001b[0m\u001b[0;34m)\u001b[0m\u001b[0;34m)\u001b[0m\u001b[0;34m\u001b[0m\u001b[0;34m\u001b[0m\u001b[0m\n\u001b[1;32m     64\u001b[0m         \u001b[0mdec3\u001b[0m \u001b[0;34m=\u001b[0m \u001b[0mself\u001b[0m\u001b[0;34m.\u001b[0m\u001b[0mupconv3\u001b[0m\u001b[0;34m(\u001b[0m\u001b[0mdec4\u001b[0m\u001b[0;34m)\u001b[0m\u001b[0;34m\u001b[0m\u001b[0;34m\u001b[0m\u001b[0m\n",
      "\u001b[0;32m~/opt/anaconda3/lib/python3.7/site-packages/torch/nn/modules/module.py\u001b[0m in \u001b[0;36m_call_impl\u001b[0;34m(self, *input, **kwargs)\u001b[0m\n\u001b[1;32m    725\u001b[0m             \u001b[0mresult\u001b[0m \u001b[0;34m=\u001b[0m \u001b[0mself\u001b[0m\u001b[0;34m.\u001b[0m\u001b[0m_slow_forward\u001b[0m\u001b[0;34m(\u001b[0m\u001b[0;34m*\u001b[0m\u001b[0minput\u001b[0m\u001b[0;34m,\u001b[0m \u001b[0;34m**\u001b[0m\u001b[0mkwargs\u001b[0m\u001b[0;34m)\u001b[0m\u001b[0;34m\u001b[0m\u001b[0;34m\u001b[0m\u001b[0m\n\u001b[1;32m    726\u001b[0m         \u001b[0;32melse\u001b[0m\u001b[0;34m:\u001b[0m\u001b[0;34m\u001b[0m\u001b[0;34m\u001b[0m\u001b[0m\n\u001b[0;32m--> 727\u001b[0;31m             \u001b[0mresult\u001b[0m \u001b[0;34m=\u001b[0m \u001b[0mself\u001b[0m\u001b[0;34m.\u001b[0m\u001b[0mforward\u001b[0m\u001b[0;34m(\u001b[0m\u001b[0;34m*\u001b[0m\u001b[0minput\u001b[0m\u001b[0;34m,\u001b[0m \u001b[0;34m**\u001b[0m\u001b[0mkwargs\u001b[0m\u001b[0;34m)\u001b[0m\u001b[0;34m\u001b[0m\u001b[0;34m\u001b[0m\u001b[0m\n\u001b[0m\u001b[1;32m    728\u001b[0m         for hook in itertools.chain(\n\u001b[1;32m    729\u001b[0m                 \u001b[0m_global_forward_hooks\u001b[0m\u001b[0;34m.\u001b[0m\u001b[0mvalues\u001b[0m\u001b[0;34m(\u001b[0m\u001b[0;34m)\u001b[0m\u001b[0;34m,\u001b[0m\u001b[0;34m\u001b[0m\u001b[0;34m\u001b[0m\u001b[0m\n",
      "\u001b[0;32m~/opt/anaconda3/lib/python3.7/site-packages/torch/nn/modules/conv.py\u001b[0m in \u001b[0;36mforward\u001b[0;34m(self, input, output_size)\u001b[0m\n\u001b[1;32m    927\u001b[0m         return F.conv_transpose2d(\n\u001b[1;32m    928\u001b[0m             \u001b[0minput\u001b[0m\u001b[0;34m,\u001b[0m \u001b[0mself\u001b[0m\u001b[0;34m.\u001b[0m\u001b[0mweight\u001b[0m\u001b[0;34m,\u001b[0m \u001b[0mself\u001b[0m\u001b[0;34m.\u001b[0m\u001b[0mbias\u001b[0m\u001b[0;34m,\u001b[0m \u001b[0mself\u001b[0m\u001b[0;34m.\u001b[0m\u001b[0mstride\u001b[0m\u001b[0;34m,\u001b[0m \u001b[0mself\u001b[0m\u001b[0;34m.\u001b[0m\u001b[0mpadding\u001b[0m\u001b[0;34m,\u001b[0m\u001b[0;34m\u001b[0m\u001b[0;34m\u001b[0m\u001b[0m\n\u001b[0;32m--> 929\u001b[0;31m             output_padding, self.groups, self.dilation)\n\u001b[0m\u001b[1;32m    930\u001b[0m \u001b[0;34m\u001b[0m\u001b[0m\n\u001b[1;32m    931\u001b[0m \u001b[0;34m\u001b[0m\u001b[0m\n",
      "\u001b[0;31mKeyboardInterrupt\u001b[0m: "
     ]
    },
    {
     "data": {
      "image/png": "[encoded data removed]",
      "text/plain": [
       "<Figure size 432x288 with 1 Axes>"
      ]
     },
     "metadata": {
      "needs_background": "light"
     },
     "output_type": "display_data"
    }
   ],
   "source": [
    "from torch.utils.data import DataLoader\n",
    "import numpy as np\n",
    "import time\n",
    "from matplotlib import pyplot as plt\n",
    "\n",
    "def convert_to_4_channel(img):\n",
    "    converted_img = torch.zeros((img.shape[0], 4, img.shape[1], img.shape[2]))\n",
    "    # Binarization 二值化操作 使mask更清晰\n",
    "    converted_img[:, 0, :, :] = torch.where(img == 0, 1, 0)\n",
    "    converted_img[:, 1, :, :] = torch.where(img == 1, 1, 0)\n",
    "    converted_img[:, 2, :, :] = torch.where(img == 2, 1, 0)\n",
    "    converted_img[:, 3, :, :] = torch.where(img == 3, 1, 0)\n",
    "    return converted_img\n",
    "\n",
    "#################################################### Load dataset#####################################################\n",
    "\n",
    "train_data_path = './data/train'\n",
    "val_data_path = './data/val'\n",
    "num_workers = 4\n",
    "batch_size = 10\n",
    "train_set = TrainDataset(train_data_path)\n",
    "training_data_loader = DataLoader(dataset=train_set, num_workers=0, batch_size=batch_size, shuffle=True)\n",
    "val_set = TrainDataset(val_data_path)\n",
    "val_data_loader = DataLoader(dataset=val_set, num_workers=num_workers, batch_size=batch_size, shuffle=True)\n",
    "\n",
    "###################################################### Training #######################################################\n",
    "train_loss=[]\n",
    "loss_training_epoch=[]\n",
    "best_training_loss = float(\"inf\")\n",
    "epoches = 50\n",
    "\n",
    "for epoch in range(epoches):\n",
    "    model.train()\n",
    "    since = time.time()\n",
    "    epoch_train_loss=[]\n",
    "    \n",
    "    # Fetch images and labels.  \n",
    "    for iteration, sample in enumerate(training_data_loader):\n",
    "        \n",
    "        optimizer.zero_grad()\n",
    "    \n",
    "        # The shape of img and mask is [Batch_size, 96, 96]\n",
    "        img, mask = sample\n",
    "        \n",
    "        img, mask = img.to(device), mask.to(device)\n",
    "        \n",
    "        # Adding a dimension to img:[batch_size,1,96,96], ready to feed into network\n",
    "        img = img.unsqueeze(1)\n",
    "        \n",
    "        # Calculate the expected mask\n",
    "        y_true = convert_to_4_channel(mask)\n",
    "\n",
    "        # Write your FORWARD below\n",
    "        y_pred = model(img)\n",
    "\n",
    "        # Then write your BACKWARD & OPTIMIZE below\n",
    "        loss = Loss(y_pred.float(), mask.long())\n",
    "        train_loss.append(loss.item())\n",
    "        epoch_train_loss.append(loss.item())\n",
    "        \n",
    "        loss.backward()\n",
    "        optimizer.step()\n",
    "            \n",
    "    print('Epoch:{}/{} :: Ave_train_loss:{:.4f}'.format(epoch+1,epoches,np.mean(epoch_train_loss)))\n",
    "    print('Epoch training time:{:.4f}'.format(time.time()-since))\n",
    "    print('-'*10)\n",
    "    plt.plot(train_loss)\n",
    "    loss_training_epoch.append(np.mean(epoch_train_loss))\n",
    "    \n",
    "    # At the end of the epoch, do a test on the validation set and save the best model\n",
    "    if(loss_training_epoch[-1] < best_training_loss):\n",
    "        best_training_loss = loss_training_epoch[-1]\n",
    "        best_model = model\n",
    "        torch.save(best_model.state_dict(), 'best_model.pth')\n",
    "        print('save the best model!')\n",
    "    \n",
    "torch.save(model.state_dict(), \"last_model.pth\")\n",
    "print(len(loss_training_epoch))"
   ]
  },
  {
   "cell_type": "markdown",
   "metadata": {
    "id": "tCZP-xof-Sst"
   },
   "source": [
    "### 2.5 Testing\n",
    "\n",
    "When validating the trained checkpoints (models), remember to change the model status as **Evaluation Mode**"
   ]
  },
  {
   "cell_type": "code",
   "execution_count": 14,
   "metadata": {
    "id": "lGmhTdkciDt0"
   },
   "outputs": [],
   "source": [
    "import numpy as np\n",
    "from torch.autograd import Variable\n",
    "from matplotlib import pyplot as plt\n",
    "from torch.utils.data import DataLoader"
   ]
  },
  {
   "cell_type": "code",
   "execution_count": 44,
   "metadata": {
    "id": "LVS22lrjqW_V"
   },
   "outputs": [
    {
     "ename": "RuntimeError",
     "evalue": "Error(s) in loading state_dict for CNNSEG:\n\tMissing key(s) in state_dict: \"encoder1.double_conv.0.weight\", \"encoder1.double_conv.1.weight\", \"encoder1.double_conv.1.bias\", \"encoder1.double_conv.1.running_mean\", \"encoder1.double_conv.1.running_var\", \"encoder1.double_conv.3.weight\", \"encoder1.double_conv.4.weight\", \"encoder1.double_conv.4.bias\", \"encoder1.double_conv.4.running_mean\", \"encoder1.double_conv.4.running_var\", \"encoder2.double_conv.0.weight\", \"encoder2.double_conv.1.weight\", \"encoder2.double_conv.1.bias\", \"encoder2.double_conv.1.running_mean\", \"encoder2.double_conv.1.running_var\", \"encoder2.double_conv.3.weight\", \"encoder2.double_conv.4.weight\", \"encoder2.double_conv.4.bias\", \"encoder2.double_conv.4.running_mean\", \"encoder2.double_conv.4.running_var\", \"encoder3.double_conv.0.weight\", \"encoder3.double_conv.1.weight\", \"encoder3.double_conv.1.bias\", \"encoder3.double_conv.1.running_mean\", \"encoder3.double_conv.1.running_var\", \"encoder3.double_conv.3.weight\", \"encoder3.double_conv.4.weight\", \"encoder3.double_conv.4.bias\", \"encoder3.double_conv.4.running_mean\", \"encoder3.double_conv.4.running_var\", \"encoder4.double_conv.0.weight\", \"encoder4.double_conv.1.weight\", \"encoder4.double_conv.1.bias\", \"encoder4.double_conv.1.running_mean\", \"encoder4.double_conv.1.running_var\", \"encoder4.double_conv.3.weight\", \"encoder4.double_conv.4.weight\", \"encoder4.double_conv.4.bias\", \"encoder4.double_conv.4.running_mean\", \"encoder4.double_conv.4.running_var\", \"bottleneck.double_conv.0.weight\", \"bottleneck.double_conv.1.weight\", \"bottleneck.double_conv.1.bias\", \"bottleneck.double_conv.1.running_mean\", \"bottleneck.double_conv.1.running_var\", \"bottleneck.double_conv.3.weight\", \"bottleneck.double_conv.4.weight\", \"bottleneck.double_conv.4.bias\", \"bottleneck.double_conv.4.running_mean\", \"bottleneck.double_conv.4.running_var\", \"decoder4.double_conv.0.weight\", \"decoder4.double_conv.1.weight\", \"decoder4.double_conv.1.bias\", \"decoder4.double_conv.1.running_mean\", \"decoder4.double_conv.1.running_var\", \"decoder4.double_conv.3.weight\", \"decoder4.double_conv.4.weight\", \"decoder4.double_conv.4.bias\", \"decoder4.double_conv.4.running_mean\", \"decoder4.double_conv.4.running_var\", \"decoder3.double_conv.0.weight\", \"decoder3.double_conv.1.weight\", \"decoder3.double_conv.1.bias\", \"decoder3.double_conv.1.running_mean\", \"decoder3.double_conv.1.running_var\", \"decoder3.double_conv.3.weight\", \"decoder3.double_conv.4.weight\", \"decoder3.double_conv.4.bias\", \"decoder3.double_conv.4.running_mean\", \"decoder3.double_conv.4.running_var\", \"decoder2.double_conv.0.weight\", \"decoder2.double_conv.1.weight\", \"decoder2.double_conv.1.bias\", \"decoder2.double_conv.1.running_mean\", \"decoder2.double_conv.1.running_var\", \"decoder2.double_conv.3.weight\", \"decoder2.double_conv.4.weight\", \"decoder2.double_conv.4.bias\", \"decoder2.double_conv.4.running_mean\", \"decoder2.double_conv.4.running_var\", \"decoder1.double_conv.0.weight\", \"decoder1.double_conv.1.weight\", \"decoder1.double_conv.1.bias\", \"decoder1.double_conv.1.running_mean\", \"decoder1.double_conv.1.running_var\", \"decoder1.double_conv.3.weight\", \"decoder1.double_conv.4.weight\", \"decoder1.double_conv.4.bias\", \"decoder1.double_conv.4.running_mean\", \"decoder1.double_conv.4.running_var\". \n\tUnexpected key(s) in state_dict: \"encoder1.enc1conv1.weight\", \"encoder1.enc1norm1.weight\", \"encoder1.enc1norm1.bias\", \"encoder1.enc1norm1.running_mean\", \"encoder1.enc1norm1.running_var\", \"encoder1.enc1norm1.num_batches_tracked\", \"encoder1.enc1conv2.weight\", \"encoder1.enc1norm2.weight\", \"encoder1.enc1norm2.bias\", \"encoder1.enc1norm2.running_mean\", \"encoder1.enc1norm2.running_var\", \"encoder1.enc1norm2.num_batches_tracked\", \"encoder2.enc2conv1.weight\", \"encoder2.enc2norm1.weight\", \"encoder2.enc2norm1.bias\", \"encoder2.enc2norm1.running_mean\", \"encoder2.enc2norm1.running_var\", \"encoder2.enc2norm1.num_batches_tracked\", \"encoder2.enc2conv2.weight\", \"encoder2.enc2norm2.weight\", \"encoder2.enc2norm2.bias\", \"encoder2.enc2norm2.running_mean\", \"encoder2.enc2norm2.running_var\", \"encoder2.enc2norm2.num_batches_tracked\", \"encoder3.enc3conv1.weight\", \"encoder3.enc3norm1.weight\", \"encoder3.enc3norm1.bias\", \"encoder3.enc3norm1.running_mean\", \"encoder3.enc3norm1.running_var\", \"encoder3.enc3norm1.num_batches_tracked\", \"encoder3.enc3conv2.weight\", \"encoder3.enc3norm2.weight\", \"encoder3.enc3norm2.bias\", \"encoder3.enc3norm2.running_mean\", \"encoder3.enc3norm2.running_var\", \"encoder3.enc3norm2.num_batches_tracked\", \"encoder4.enc4conv1.weight\", \"encoder4.enc4norm1.weight\", \"encoder4.enc4norm1.bias\", \"encoder4.enc4norm1.running_mean\", \"encoder4.enc4norm1.running_var\", \"encoder4.enc4norm1.num_batches_tracked\", \"encoder4.enc4conv2.weight\", \"encoder4.enc4norm2.weight\", \"encoder4.enc4norm2.bias\", \"encoder4.enc4norm2.running_mean\", \"encoder4.enc4norm2.running_var\", \"encoder4.enc4norm2.num_batches_tracked\", \"bottleneck.bottleneckconv1.weight\", \"bottleneck.bottlenecknorm1.weight\", \"bottleneck.bottlenecknorm1.bias\", \"bottleneck.bottlenecknorm1.running_mean\", \"bottleneck.bottlenecknorm1.running_var\", \"bottleneck.bottlenecknorm1.num_batches_tracked\", \"bottleneck.bottleneckconv2.weight\", \"bottleneck.bottlenecknorm2.weight\", \"bottleneck.bottlenecknorm2.bias\", \"bottleneck.bottlenecknorm2.running_mean\", \"bottleneck.bottlenecknorm2.running_var\", \"bottleneck.bottlenecknorm2.num_batches_tracked\", \"decoder4.dec4conv1.weight\", \"decoder4.dec4norm1.weight\", \"decoder4.dec4norm1.bias\", \"decoder4.dec4norm1.running_mean\", \"decoder4.dec4norm1.running_var\", \"decoder4.dec4norm1.num_batches_tracked\", \"decoder4.dec4conv2.weight\", \"decoder4.dec4norm2.weight\", \"decoder4.dec4norm2.bias\", \"decoder4.dec4norm2.running_mean\", \"decoder4.dec4norm2.running_var\", \"decoder4.dec4norm2.num_batches_tracked\", \"decoder3.dec3conv1.weight\", \"decoder3.dec3norm1.weight\", \"decoder3.dec3norm1.bias\", \"decoder3.dec3norm1.running_mean\", \"decoder3.dec3norm1.running_var\", \"decoder3.dec3norm1.num_batches_tracked\", \"decoder3.dec3conv2.weight\", \"decoder3.dec3norm2.weight\", \"decoder3.dec3norm2.bias\", \"decoder3.dec3norm2.running_mean\", \"decoder3.dec3norm2.running_var\", \"decoder3.dec3norm2.num_batches_tracked\", \"decoder2.dec2conv1.weight\", \"decoder2.dec2norm1.weight\", \"decoder2.dec2norm1.bias\", \"decoder2.dec2norm1.running_mean\", \"decoder2.dec2norm1.running_var\", \"decoder2.dec2norm1.num_batches_tracked\", \"decoder2.dec2conv2.weight\", \"decoder2.dec2norm2.weight\", \"decoder2.dec2norm2.bias\", \"decoder2.dec2norm2.running_mean\", \"decoder2.dec2norm2.running_var\", \"decoder2.dec2norm2.num_batches_tracked\", \"decoder1.dec1conv1.weight\", \"decoder1.dec1norm1.weight\", \"decoder1.dec1norm1.bias\", \"decoder1.dec1norm1.running_mean\", \"decoder1.dec1norm1.running_var\", \"decoder1.dec1norm1.num_batches_tracked\", \"decoder1.dec1conv2.weight\", \"decoder1.dec1norm2.weight\", \"decoder1.dec1norm2.bias\", \"decoder1.dec1norm2.running_mean\", \"decoder1.dec1norm2.running_var\", \"decoder1.dec1norm2.num_batches_tracked\". ",
     "output_type": "error",
     "traceback": [
      "\u001b[0;31m---------------------------------------------------------------------------\u001b[0m",
      "\u001b[0;31mRuntimeError\u001b[0m                              Traceback (most recent call last)",
      "\u001b[0;32m<ipython-input-44-d6b0d80a4f8c>\u001b[0m in \u001b[0;36m<module>\u001b[0;34m\u001b[0m\n\u001b[1;32m     10\u001b[0m \u001b[0;31m############################ NEED CHANGE FOLLOW LINE\u001b[0m\u001b[0;34m\u001b[0m\u001b[0;34m\u001b[0m\u001b[0;34m\u001b[0m\u001b[0m\n\u001b[1;32m     11\u001b[0m \u001b[0;31m#这里是CPU加载GPU的数据多加了参数：map_location=torch.device('cpu')，GPU加载GPU的数据无需这个参数\u001b[0m\u001b[0;34m\u001b[0m\u001b[0;34m\u001b[0m\u001b[0;34m\u001b[0m\u001b[0m\n\u001b[0;32m---> 12\u001b[0;31m \u001b[0mmodel\u001b[0m\u001b[0;34m.\u001b[0m\u001b[0mload_state_dict\u001b[0m\u001b[0;34m(\u001b[0m\u001b[0mtorch\u001b[0m\u001b[0;34m.\u001b[0m\u001b[0mload\u001b[0m\u001b[0;34m(\u001b[0m\u001b[0;34m\"weights.pth\"\u001b[0m\u001b[0;34m,\u001b[0m\u001b[0mmap_location\u001b[0m\u001b[0;34m=\u001b[0m\u001b[0mtorch\u001b[0m\u001b[0;34m.\u001b[0m\u001b[0mdevice\u001b[0m\u001b[0;34m(\u001b[0m\u001b[0;34m'cpu'\u001b[0m\u001b[0;34m)\u001b[0m\u001b[0;34m)\u001b[0m\u001b[0;34m)\u001b[0m\u001b[0;34m\u001b[0m\u001b[0;34m\u001b[0m\u001b[0m\n\u001b[0m\u001b[1;32m     13\u001b[0m \u001b[0;31m############################\u001b[0m\u001b[0;34m\u001b[0m\u001b[0;34m\u001b[0m\u001b[0;34m\u001b[0m\u001b[0m\n\u001b[1;32m     14\u001b[0m \u001b[0;32mfor\u001b[0m \u001b[0miteration\u001b[0m\u001b[0;34m,\u001b[0m \u001b[0msample\u001b[0m \u001b[0;32min\u001b[0m \u001b[0menumerate\u001b[0m\u001b[0;34m(\u001b[0m\u001b[0mtest_data_loader\u001b[0m\u001b[0;34m)\u001b[0m\u001b[0;34m:\u001b[0m\u001b[0;34m\u001b[0m\u001b[0;34m\u001b[0m\u001b[0m\n",
      "\u001b[0;32m~/opt/anaconda3/lib/python3.7/site-packages/torch/nn/modules/module.py\u001b[0m in \u001b[0;36mload_state_dict\u001b[0;34m(self, state_dict, strict)\u001b[0m\n\u001b[1;32m   1050\u001b[0m         \u001b[0;32mif\u001b[0m \u001b[0mlen\u001b[0m\u001b[0;34m(\u001b[0m\u001b[0merror_msgs\u001b[0m\u001b[0;34m)\u001b[0m \u001b[0;34m>\u001b[0m \u001b[0;36m0\u001b[0m\u001b[0;34m:\u001b[0m\u001b[0;34m\u001b[0m\u001b[0;34m\u001b[0m\u001b[0m\n\u001b[1;32m   1051\u001b[0m             raise RuntimeError('Error(s) in loading state_dict for {}:\\n\\t{}'.format(\n\u001b[0;32m-> 1052\u001b[0;31m                                self.__class__.__name__, \"\\n\\t\".join(error_msgs)))\n\u001b[0m\u001b[1;32m   1053\u001b[0m         \u001b[0;32mreturn\u001b[0m \u001b[0m_IncompatibleKeys\u001b[0m\u001b[0;34m(\u001b[0m\u001b[0mmissing_keys\u001b[0m\u001b[0;34m,\u001b[0m \u001b[0munexpected_keys\u001b[0m\u001b[0;34m)\u001b[0m\u001b[0;34m\u001b[0m\u001b[0;34m\u001b[0m\u001b[0m\n\u001b[1;32m   1054\u001b[0m \u001b[0;34m\u001b[0m\u001b[0m\n",
      "\u001b[0;31mRuntimeError\u001b[0m: Error(s) in loading state_dict for CNNSEG:\n\tMissing key(s) in state_dict: \"encoder1.double_conv.0.weight\", \"encoder1.double_conv.1.weight\", \"encoder1.double_conv.1.bias\", \"encoder1.double_conv.1.running_mean\", \"encoder1.double_conv.1.running_var\", \"encoder1.double_conv.3.weight\", \"encoder1.double_conv.4.weight\", \"encoder1.double_conv.4.bias\", \"encoder1.double_conv.4.running_mean\", \"encoder1.double_conv.4.running_var\", \"encoder2.double_conv.0.weight\", \"encoder2.double_conv.1.weight\", \"encoder2.double_conv.1.bias\", \"encoder2.double_conv.1.running_mean\", \"encoder2.double_conv.1.running_var\", \"encoder2.double_conv.3.weight\", \"encoder2.double_conv.4.weight\", \"encoder2.double_conv.4.bias\", \"encoder2.double_conv.4.running_mean\", \"encoder2.double_conv.4.running_var\", \"encoder3.double_conv.0.weight\", \"encoder3.double_conv.1.weight\", \"encoder3.double_conv.1.bias\", \"encoder3.double_conv.1.running_mean\", \"encoder3.double_conv.1.running_var\", \"encoder3.double_conv.3.weight\", \"encoder3.double_conv.4.weight\", \"encoder3.double_conv.4.bias\", \"encoder3.double_conv.4.running_mean\", \"encoder3.double_conv.4.running_var\", \"encoder4.double_conv.0.weight\", \"encoder4.double_conv.1.weight\", \"encoder4.double_conv.1.bias\", \"encoder4.double_conv.1.running_mean\", \"encoder4.double_conv.1.running_var\", \"encoder4.double_conv.3.weight\", \"encoder4.double_conv.4.weight\", \"encoder4.double_conv.4.bias\", \"encoder4.double_conv.4.running_mean\", \"encoder4.double_conv.4.running_var\", \"bottleneck.double_conv.0.weight\", \"bottleneck.double_conv.1.weight\", \"bottleneck.double_conv.1.bias\", \"bottleneck.double_conv.1.running_mean\", \"bottleneck.double_conv.1.running_var\", \"bottleneck.double_conv.3.weight\", \"bottleneck.double_conv.4.weight\", \"bottleneck.double_conv.4.bias\", \"bottleneck.double_conv.4.running_mean\", \"bottleneck.double_conv.4.running_var\", \"decoder4.double_conv.0.weight\", \"decoder4.double_conv.1.weight\", \"decoder4.double_conv.1.bias\", \"decoder4.double_conv.1.running_mean\", \"decoder4.double_conv.1.running_var\", \"decoder4.double_conv.3.weight\", \"decoder4.double_conv.4.weight\", \"decoder4.double_conv.4.bias\", \"decoder4.double_conv.4.running_mean\", \"decoder4.double_conv.4.running_var\", \"decoder3.double_conv.0.weight\", \"decoder3.double_conv.1.weight\", \"decoder3.double_conv.1.bias\", \"decoder3.double_conv.1.running_mean\", \"decoder3.double_conv.1.running_var\", \"decoder3.double_conv.3.weight\", \"decoder3.double_conv.4.weight\", \"decoder3.double_conv.4.bias\", \"decoder3.double_conv.4.running_mean\", \"decoder3.double_conv.4.running_var\", \"decoder2.double_conv.0.weight\", \"decoder2.double_conv.1.weight\", \"decoder2.double_conv.1.bias\", \"decoder2.double_conv.1.running_mean\", \"decoder2.double_conv.1.running_var\", \"decoder2.double_conv.3.weight\", \"decoder2.double_conv.4.weight\", \"decoder2.double_conv.4.bias\", \"decoder2.double_conv.4.running_mean\", \"decoder2.double_conv.4.running_var\", \"decoder1.double_conv.0.weight\", \"decoder1.double_conv.1.weight\", \"decoder1.double_conv.1.bias\", \"decoder1.double_conv.1.running_mean\", \"decoder1.double_conv.1.running_var\", \"decoder1.double_conv.3.weight\", \"decoder1.double_conv.4.weight\", \"decoder1.double_conv.4.bias\", \"decoder1.double_conv.4.running_mean\", \"decoder1.double_conv.4.running_var\". \n\tUnexpected key(s) in state_dict: \"encoder1.enc1conv1.weight\", \"encoder1.enc1norm1.weight\", \"encoder1.enc1norm1.bias\", \"encoder1.enc1norm1.running_mean\", \"encoder1.enc1norm1.running_var\", \"encoder1.enc1norm1.num_batches_tracked\", \"encoder1.enc1conv2.weight\", \"encoder1.enc1norm2.weight\", \"encoder1.enc1norm2.bias\", \"encoder1.enc1norm2.running_mean\", \"encoder1.enc1norm2.running_var\", \"encoder1.enc1norm2.num_batches_tracked\", \"encoder2.enc2conv1.weight\", \"encoder2.enc2norm1.weight\", \"encoder2.enc2norm1.bias\", \"encoder2.enc2norm1.running_mean\", \"encoder2.enc2norm1.running_var\", \"encoder2.enc2norm1.num_batches_tracked\", \"encoder2.enc2conv2.weight\", \"encoder2.enc2norm2.weight\", \"encoder2.enc2norm2.bias\", \"encoder2.enc2norm2.running_mean\", \"encoder2.enc2norm2.running_var\", \"encoder2.enc2norm2.num_batches_tracked\", \"encoder3.enc3conv1.weight\", \"encoder3.enc3norm1.weight\", \"encoder3.enc3norm1.bias\", \"encoder3.enc3norm1.running_mean\", \"encoder3.enc3norm1.running_var\", \"encoder3.enc3norm1.num_batches_tracked\", \"encoder3.enc3conv2.weight\", \"encoder3.enc3norm2.weight\", \"encoder3.enc3norm2.bias\", \"encoder3.enc3norm2.running_mean\", \"encoder3.enc3norm2.running_var\", \"encoder3.enc3norm2.num_batches_tracked\", \"encoder4.enc4conv1.weight\", \"encoder4.enc4norm1.weight\", \"encoder4.enc4norm1.bias\", \"encoder4.enc4norm1.running_mean\", \"encoder4.enc4norm1.running_var\", \"encoder4.enc4norm1.num_batches_tracked\", \"encoder4.enc4conv2.weight\", \"encoder4.enc4norm2.weight\", \"encoder4.enc4norm2.bias\", \"encoder4.enc4norm2.running_mean\", \"encoder4.enc4norm2.running_var\", \"encoder4.enc4norm2.num_batches_tracked\", \"bottleneck.bottleneckconv1.weight\", \"bottleneck.bottlenecknorm1.weight\", \"bottleneck.bottlenecknorm1.bias\", \"bottleneck.bottlenecknorm1.running_mean\", \"bottleneck.bottlenecknorm1.running_var\", \"bottleneck.bottlenecknorm1.num_batches_tracked\", \"bottleneck.bottleneckconv2.weight\", \"bottleneck.bottlenecknorm2.weight\", \"bottleneck.bottlenecknorm2.bias\", \"bottleneck.bottlenecknorm2.running_mean\", \"bottleneck.bottlenecknorm2.running_var\", \"bottleneck.bottlenecknorm2.num_batches_tracked\", \"decoder4.dec4conv1.weight\", \"decoder4.dec4norm1.weight\", \"decoder4.dec4norm1.bias\", \"decoder4.dec4norm1.running_mean\", \"decoder4.dec4norm1.running_var\", \"decoder4.dec4norm1.num_batches_tracked\", \"decoder4.dec4conv2.weight\", \"decoder4.dec4norm2.weight\", \"decoder4.dec4norm2.bias\", \"decoder4.dec4norm2.running_mean\", \"decoder4.dec4norm2.running_var\", \"decoder4.dec4norm2.num_batches_tracked\", \"decoder3.dec3conv1.weight\", \"decoder3.dec3norm1.weight\", \"decoder3.dec3norm1.bias\", \"decoder3.dec3norm1.running_mean\", \"decoder3.dec3norm1.running_var\", \"decoder3.dec3norm1.num_batches_tracked\", \"decoder3.dec3conv2.weight\", \"decoder3.dec3norm2.weight\", \"decoder3.dec3norm2.bias\", \"decoder3.dec3norm2.running_mean\", \"decoder3.dec3norm2.running_var\", \"decoder3.dec3norm2.num_batches_tracked\", \"decoder2.dec2conv1.weight\", \"decoder2.dec2norm1.weight\", \"decoder2.dec2norm1.bias\", \"decoder2.dec2norm1.running_mean\", \"decoder2.dec2norm1.running_var\", \"decoder2.dec2norm1.num_batches_tracked\", \"decoder2.dec2conv2.weight\", \"decoder2.dec2norm2.weight\", \"decoder2.dec2norm2.bias\", \"decoder2.dec2norm2.running_mean\", \"decoder2.dec2norm2.running_var\", \"decoder2.dec2norm2.num_batches_tracked\", \"decoder1.dec1conv1.weight\", \"decoder1.dec1norm1.weight\", \"decoder1.dec1norm1.bias\", \"decoder1.dec1norm1.running_mean\", \"decoder1.dec1norm1.running_var\", \"decoder1.dec1norm1.num_batches_tracked\", \"decoder1.dec1conv2.weight\", \"decoder1.dec1norm2.weight\", \"decoder1.dec1norm2.bias\", \"decoder1.dec1norm2.running_mean\", \"decoder1.dec1norm2.running_var\", \"decoder1.dec1norm2.num_batches_tracked\". "
     ]
    }
   ],
   "source": [
    "# In this block you are expected to write code to load saved model and deploy it to all data in test set to \n",
    "# produce segmentation masks in png images valued 0,1,2,3, which will be used for the submission to Kaggle.\n",
    "data_path = './data/test'\n",
    "num_workers = 0\n",
    "batch_size = 2\n",
    "i= 121\n",
    "\n",
    "test_set = TestDataset(data_path)\n",
    "test_data_loader = DataLoader(dataset=test_set, num_workers=num_workers,batch_size=batch_size, shuffle=False)\n",
    "############################ NEED CHANGE FOLLOW LINE\n",
    "#这里是CPU加载GPU的数据多加了参数：map_location=torch.device('cpu')，GPU加载GPU的数据无需这个参数\n",
    "model.load_state_dict(torch.load(\"weights.pth\",map_location=torch.device('cpu')))\n",
    "############################\n",
    "for iteration, sample in enumerate(test_data_loader):\n",
    "    img = sample\n",
    "    img = img.to(device)\n",
    "    img = img.unsqueeze(1)\n",
    "    img = model.forward(img)\n",
    "    img = torch.argmax(img.squeeze(), dim=1)\n",
    "    #visualise all images in test set\n",
    "    img = img.data.cpu().numpy()\n",
    "    plt.imshow(img[0,...].squeeze(), cmap='gray') \n",
    "    plt.pause(1)\n",
    "    cv2.imwrite('./data/test/mask/cmr{}_mask.png'.format(i), img[0])\n",
    "    i+=1\n",
    "    cv2.imwrite('./data/test/mask/cmr{}_mask.png'.format(i), img[1])\n",
    "    i+=1"
   ]
  },
  {
   "cell_type": "markdown",
   "metadata": {
    "id": "wsycVbIuUov3"
   },
   "source": [
    "## 3 Evaluation\n",
    "\n",
    "As we will automatically evaluate your predicted test makes on Kaggle, in this section we expect you to learn:\n",
    "* what is the Dice score used on Kaggle to measure your models performance\n",
    "* how to submit your predicted masks to Kaggle"
   ]
  },
  {
   "cell_type": "markdown",
   "metadata": {
    "id": "NicQyj47jsD1"
   },
   "source": [
    "### 3.1 Dice Score\n",
    "\n",
    "To evaluate the quality of the predicted masks, the Dice score is adopted. Dice score on two masks A and B is defined as the intersection ratio between the overlap area and the average area of two masks. A higher Dice suggests a better registration.\n",
    "\n",
    "$Dice (A, B)= \\frac{2|A \\cap B|}{|A| + |B|} $\n",
    "\n",
    "However, in our coursework, we have three labels in each mask, we will compute the Dice score for each label and then average the three of them as the final score. Below we have given you `categorical_dice` for free so you can test your results before submission to Kaggle."
   ]
  },
  {
   "cell_type": "code",
   "execution_count": 52,
   "metadata": {},
   "outputs": [
    {
     "ename": "RuntimeError",
     "evalue": "Error(s) in loading state_dict for CNNSEG:\n\tMissing key(s) in state_dict: \"encoder1.0.weight\", \"encoder1.1.weight\", \"encoder1.1.bias\", \"encoder1.1.running_mean\", \"encoder1.1.running_var\", \"encoder1.3.weight\", \"encoder1.4.weight\", \"encoder1.4.bias\", \"encoder1.4.running_mean\", \"encoder1.4.running_var\", \"encoder2.0.weight\", \"encoder2.1.weight\", \"encoder2.1.bias\", \"encoder2.1.running_mean\", \"encoder2.1.running_var\", \"encoder2.3.weight\", \"encoder2.4.weight\", \"encoder2.4.bias\", \"encoder2.4.running_mean\", \"encoder2.4.running_var\", \"encoder3.0.weight\", \"encoder3.1.weight\", \"encoder3.1.bias\", \"encoder3.1.running_mean\", \"encoder3.1.running_var\", \"encoder3.3.weight\", \"encoder3.4.weight\", \"encoder3.4.bias\", \"encoder3.4.running_mean\", \"encoder3.4.running_var\", \"encoder4.0.weight\", \"encoder4.1.weight\", \"encoder4.1.bias\", \"encoder4.1.running_mean\", \"encoder4.1.running_var\", \"encoder4.3.weight\", \"encoder4.4.weight\", \"encoder4.4.bias\", \"encoder4.4.running_mean\", \"encoder4.4.running_var\", \"bottleneck.0.weight\", \"bottleneck.1.weight\", \"bottleneck.1.bias\", \"bottleneck.1.running_mean\", \"bottleneck.1.running_var\", \"bottleneck.3.weight\", \"bottleneck.4.weight\", \"bottleneck.4.bias\", \"bottleneck.4.running_mean\", \"bottleneck.4.running_var\", \"decoder4.0.weight\", \"decoder4.1.weight\", \"decoder4.1.bias\", \"decoder4.1.running_mean\", \"decoder4.1.running_var\", \"decoder4.3.weight\", \"decoder4.4.weight\", \"decoder4.4.bias\", \"decoder4.4.running_mean\", \"decoder4.4.running_var\", \"decoder3.0.weight\", \"decoder3.1.weight\", \"decoder3.1.bias\", \"decoder3.1.running_mean\", \"decoder3.1.running_var\", \"decoder3.3.weight\", \"decoder3.4.weight\", \"decoder3.4.bias\", \"decoder3.4.running_mean\", \"decoder3.4.running_var\", \"decoder2.0.weight\", \"decoder2.1.weight\", \"decoder2.1.bias\", \"decoder2.1.running_mean\", \"decoder2.1.running_var\", \"decoder2.3.weight\", \"decoder2.4.weight\", \"decoder2.4.bias\", \"decoder2.4.running_mean\", \"decoder2.4.running_var\", \"decoder1.0.weight\", \"decoder1.1.weight\", \"decoder1.1.bias\", \"decoder1.1.running_mean\", \"decoder1.1.running_var\", \"decoder1.3.weight\", \"decoder1.4.weight\", \"decoder1.4.bias\", \"decoder1.4.running_mean\", \"decoder1.4.running_var\". \n\tUnexpected key(s) in state_dict: \"encoder1.enc1conv1.weight\", \"encoder1.enc1norm1.weight\", \"encoder1.enc1norm1.bias\", \"encoder1.enc1norm1.running_mean\", \"encoder1.enc1norm1.running_var\", \"encoder1.enc1norm1.num_batches_tracked\", \"encoder1.enc1conv2.weight\", \"encoder1.enc1norm2.weight\", \"encoder1.enc1norm2.bias\", \"encoder1.enc1norm2.running_mean\", \"encoder1.enc1norm2.running_var\", \"encoder1.enc1norm2.num_batches_tracked\", \"encoder2.enc2conv1.weight\", \"encoder2.enc2norm1.weight\", \"encoder2.enc2norm1.bias\", \"encoder2.enc2norm1.running_mean\", \"encoder2.enc2norm1.running_var\", \"encoder2.enc2norm1.num_batches_tracked\", \"encoder2.enc2conv2.weight\", \"encoder2.enc2norm2.weight\", \"encoder2.enc2norm2.bias\", \"encoder2.enc2norm2.running_mean\", \"encoder2.enc2norm2.running_var\", \"encoder2.enc2norm2.num_batches_tracked\", \"encoder3.enc3conv1.weight\", \"encoder3.enc3norm1.weight\", \"encoder3.enc3norm1.bias\", \"encoder3.enc3norm1.running_mean\", \"encoder3.enc3norm1.running_var\", \"encoder3.enc3norm1.num_batches_tracked\", \"encoder3.enc3conv2.weight\", \"encoder3.enc3norm2.weight\", \"encoder3.enc3norm2.bias\", \"encoder3.enc3norm2.running_mean\", \"encoder3.enc3norm2.running_var\", \"encoder3.enc3norm2.num_batches_tracked\", \"encoder4.enc4conv1.weight\", \"encoder4.enc4norm1.weight\", \"encoder4.enc4norm1.bias\", \"encoder4.enc4norm1.running_mean\", \"encoder4.enc4norm1.running_var\", \"encoder4.enc4norm1.num_batches_tracked\", \"encoder4.enc4conv2.weight\", \"encoder4.enc4norm2.weight\", \"encoder4.enc4norm2.bias\", \"encoder4.enc4norm2.running_mean\", \"encoder4.enc4norm2.running_var\", \"encoder4.enc4norm2.num_batches_tracked\", \"bottleneck.bottleneckconv1.weight\", \"bottleneck.bottlenecknorm1.weight\", \"bottleneck.bottlenecknorm1.bias\", \"bottleneck.bottlenecknorm1.running_mean\", \"bottleneck.bottlenecknorm1.running_var\", \"bottleneck.bottlenecknorm1.num_batches_tracked\", \"bottleneck.bottleneckconv2.weight\", \"bottleneck.bottlenecknorm2.weight\", \"bottleneck.bottlenecknorm2.bias\", \"bottleneck.bottlenecknorm2.running_mean\", \"bottleneck.bottlenecknorm2.running_var\", \"bottleneck.bottlenecknorm2.num_batches_tracked\", \"decoder4.dec4conv1.weight\", \"decoder4.dec4norm1.weight\", \"decoder4.dec4norm1.bias\", \"decoder4.dec4norm1.running_mean\", \"decoder4.dec4norm1.running_var\", \"decoder4.dec4norm1.num_batches_tracked\", \"decoder4.dec4conv2.weight\", \"decoder4.dec4norm2.weight\", \"decoder4.dec4norm2.bias\", \"decoder4.dec4norm2.running_mean\", \"decoder4.dec4norm2.running_var\", \"decoder4.dec4norm2.num_batches_tracked\", \"decoder3.dec3conv1.weight\", \"decoder3.dec3norm1.weight\", \"decoder3.dec3norm1.bias\", \"decoder3.dec3norm1.running_mean\", \"decoder3.dec3norm1.running_var\", \"decoder3.dec3norm1.num_batches_tracked\", \"decoder3.dec3conv2.weight\", \"decoder3.dec3norm2.weight\", \"decoder3.dec3norm2.bias\", \"decoder3.dec3norm2.running_mean\", \"decoder3.dec3norm2.running_var\", \"decoder3.dec3norm2.num_batches_tracked\", \"decoder2.dec2conv1.weight\", \"decoder2.dec2norm1.weight\", \"decoder2.dec2norm1.bias\", \"decoder2.dec2norm1.running_mean\", \"decoder2.dec2norm1.running_var\", \"decoder2.dec2norm1.num_batches_tracked\", \"decoder2.dec2conv2.weight\", \"decoder2.dec2norm2.weight\", \"decoder2.dec2norm2.bias\", \"decoder2.dec2norm2.running_mean\", \"decoder2.dec2norm2.running_var\", \"decoder2.dec2norm2.num_batches_tracked\", \"decoder1.dec1conv1.weight\", \"decoder1.dec1norm1.weight\", \"decoder1.dec1norm1.bias\", \"decoder1.dec1norm1.running_mean\", \"decoder1.dec1norm1.running_var\", \"decoder1.dec1norm1.num_batches_tracked\", \"decoder1.dec1conv2.weight\", \"decoder1.dec1norm2.weight\", \"decoder1.dec1norm2.bias\", \"decoder1.dec1norm2.running_mean\", \"decoder1.dec1norm2.running_var\", \"decoder1.dec1norm2.num_batches_tracked\". ",
     "output_type": "error",
     "traceback": [
      "\u001b[0;31m---------------------------------------------------------------------------\u001b[0m",
      "\u001b[0;31mRuntimeError\u001b[0m                              Traceback (most recent call last)",
      "\u001b[0;32m<ipython-input-52-418ca488f037>\u001b[0m in \u001b[0;36m<module>\u001b[0;34m\u001b[0m\n\u001b[1;32m     31\u001b[0m \u001b[0;34m\u001b[0m\u001b[0m\n\u001b[1;32m     32\u001b[0m \u001b[0;31m#这里是CPU加载GPU的数据多加了参数：map_location=torch.device('cpu')，GPU加载GPU的数据无需这个参数\u001b[0m\u001b[0;34m\u001b[0m\u001b[0;34m\u001b[0m\u001b[0;34m\u001b[0m\u001b[0m\n\u001b[0;32m---> 33\u001b[0;31m \u001b[0mmodel\u001b[0m\u001b[0;34m.\u001b[0m\u001b[0mload_state_dict\u001b[0m\u001b[0;34m(\u001b[0m\u001b[0mtorch\u001b[0m\u001b[0;34m.\u001b[0m\u001b[0mload\u001b[0m\u001b[0;34m(\u001b[0m\u001b[0;34m\"weights.pth\"\u001b[0m\u001b[0;34m,\u001b[0m\u001b[0mmap_location\u001b[0m\u001b[0;34m=\u001b[0m\u001b[0mtorch\u001b[0m\u001b[0;34m.\u001b[0m\u001b[0mdevice\u001b[0m\u001b[0;34m(\u001b[0m\u001b[0;34m'cpu'\u001b[0m\u001b[0;34m)\u001b[0m\u001b[0;34m)\u001b[0m\u001b[0;34m)\u001b[0m\u001b[0;34m\u001b[0m\u001b[0;34m\u001b[0m\u001b[0m\n\u001b[0m\u001b[1;32m     34\u001b[0m \u001b[0mmodel\u001b[0m\u001b[0;34m.\u001b[0m\u001b[0meval\u001b[0m\u001b[0;34m(\u001b[0m\u001b[0;34m)\u001b[0m\u001b[0;34m\u001b[0m\u001b[0;34m\u001b[0m\u001b[0m\n\u001b[1;32m     35\u001b[0m \u001b[0;32mfor\u001b[0m \u001b[0miteration\u001b[0m\u001b[0;34m,\u001b[0m \u001b[0msample\u001b[0m \u001b[0;32min\u001b[0m \u001b[0menumerate\u001b[0m\u001b[0;34m(\u001b[0m\u001b[0mval_data_loader\u001b[0m\u001b[0;34m)\u001b[0m\u001b[0;34m:\u001b[0m\u001b[0;34m\u001b[0m\u001b[0;34m\u001b[0m\u001b[0m\n",
      "\u001b[0;32m~/opt/anaconda3/lib/python3.7/site-packages/torch/nn/modules/module.py\u001b[0m in \u001b[0;36mload_state_dict\u001b[0;34m(self, state_dict, strict)\u001b[0m\n\u001b[1;32m   1050\u001b[0m         \u001b[0;32mif\u001b[0m \u001b[0mlen\u001b[0m\u001b[0;34m(\u001b[0m\u001b[0merror_msgs\u001b[0m\u001b[0;34m)\u001b[0m \u001b[0;34m>\u001b[0m \u001b[0;36m0\u001b[0m\u001b[0;34m:\u001b[0m\u001b[0;34m\u001b[0m\u001b[0;34m\u001b[0m\u001b[0m\n\u001b[1;32m   1051\u001b[0m             raise RuntimeError('Error(s) in loading state_dict for {}:\\n\\t{}'.format(\n\u001b[0;32m-> 1052\u001b[0;31m                                self.__class__.__name__, \"\\n\\t\".join(error_msgs)))\n\u001b[0m\u001b[1;32m   1053\u001b[0m         \u001b[0;32mreturn\u001b[0m \u001b[0m_IncompatibleKeys\u001b[0m\u001b[0;34m(\u001b[0m\u001b[0mmissing_keys\u001b[0m\u001b[0;34m,\u001b[0m \u001b[0munexpected_keys\u001b[0m\u001b[0;34m)\u001b[0m\u001b[0;34m\u001b[0m\u001b[0;34m\u001b[0m\u001b[0m\n\u001b[1;32m   1054\u001b[0m \u001b[0;34m\u001b[0m\u001b[0m\n",
      "\u001b[0;31mRuntimeError\u001b[0m: Error(s) in loading state_dict for CNNSEG:\n\tMissing key(s) in state_dict: \"encoder1.0.weight\", \"encoder1.1.weight\", \"encoder1.1.bias\", \"encoder1.1.running_mean\", \"encoder1.1.running_var\", \"encoder1.3.weight\", \"encoder1.4.weight\", \"encoder1.4.bias\", \"encoder1.4.running_mean\", \"encoder1.4.running_var\", \"encoder2.0.weight\", \"encoder2.1.weight\", \"encoder2.1.bias\", \"encoder2.1.running_mean\", \"encoder2.1.running_var\", \"encoder2.3.weight\", \"encoder2.4.weight\", \"encoder2.4.bias\", \"encoder2.4.running_mean\", \"encoder2.4.running_var\", \"encoder3.0.weight\", \"encoder3.1.weight\", \"encoder3.1.bias\", \"encoder3.1.running_mean\", \"encoder3.1.running_var\", \"encoder3.3.weight\", \"encoder3.4.weight\", \"encoder3.4.bias\", \"encoder3.4.running_mean\", \"encoder3.4.running_var\", \"encoder4.0.weight\", \"encoder4.1.weight\", \"encoder4.1.bias\", \"encoder4.1.running_mean\", \"encoder4.1.running_var\", \"encoder4.3.weight\", \"encoder4.4.weight\", \"encoder4.4.bias\", \"encoder4.4.running_mean\", \"encoder4.4.running_var\", \"bottleneck.0.weight\", \"bottleneck.1.weight\", \"bottleneck.1.bias\", \"bottleneck.1.running_mean\", \"bottleneck.1.running_var\", \"bottleneck.3.weight\", \"bottleneck.4.weight\", \"bottleneck.4.bias\", \"bottleneck.4.running_mean\", \"bottleneck.4.running_var\", \"decoder4.0.weight\", \"decoder4.1.weight\", \"decoder4.1.bias\", \"decoder4.1.running_mean\", \"decoder4.1.running_var\", \"decoder4.3.weight\", \"decoder4.4.weight\", \"decoder4.4.bias\", \"decoder4.4.running_mean\", \"decoder4.4.running_var\", \"decoder3.0.weight\", \"decoder3.1.weight\", \"decoder3.1.bias\", \"decoder3.1.running_mean\", \"decoder3.1.running_var\", \"decoder3.3.weight\", \"decoder3.4.weight\", \"decoder3.4.bias\", \"decoder3.4.running_mean\", \"decoder3.4.running_var\", \"decoder2.0.weight\", \"decoder2.1.weight\", \"decoder2.1.bias\", \"decoder2.1.running_mean\", \"decoder2.1.running_var\", \"decoder2.3.weight\", \"decoder2.4.weight\", \"decoder2.4.bias\", \"decoder2.4.running_mean\", \"decoder2.4.running_var\", \"decoder1.0.weight\", \"decoder1.1.weight\", \"decoder1.1.bias\", \"decoder1.1.running_mean\", \"decoder1.1.running_var\", \"decoder1.3.weight\", \"decoder1.4.weight\", \"decoder1.4.bias\", \"decoder1.4.running_mean\", \"decoder1.4.running_var\". \n\tUnexpected key(s) in state_dict: \"encoder1.enc1conv1.weight\", \"encoder1.enc1norm1.weight\", \"encoder1.enc1norm1.bias\", \"encoder1.enc1norm1.running_mean\", \"encoder1.enc1norm1.running_var\", \"encoder1.enc1norm1.num_batches_tracked\", \"encoder1.enc1conv2.weight\", \"encoder1.enc1norm2.weight\", \"encoder1.enc1norm2.bias\", \"encoder1.enc1norm2.running_mean\", \"encoder1.enc1norm2.running_var\", \"encoder1.enc1norm2.num_batches_tracked\", \"encoder2.enc2conv1.weight\", \"encoder2.enc2norm1.weight\", \"encoder2.enc2norm1.bias\", \"encoder2.enc2norm1.running_mean\", \"encoder2.enc2norm1.running_var\", \"encoder2.enc2norm1.num_batches_tracked\", \"encoder2.enc2conv2.weight\", \"encoder2.enc2norm2.weight\", \"encoder2.enc2norm2.bias\", \"encoder2.enc2norm2.running_mean\", \"encoder2.enc2norm2.running_var\", \"encoder2.enc2norm2.num_batches_tracked\", \"encoder3.enc3conv1.weight\", \"encoder3.enc3norm1.weight\", \"encoder3.enc3norm1.bias\", \"encoder3.enc3norm1.running_mean\", \"encoder3.enc3norm1.running_var\", \"encoder3.enc3norm1.num_batches_tracked\", \"encoder3.enc3conv2.weight\", \"encoder3.enc3norm2.weight\", \"encoder3.enc3norm2.bias\", \"encoder3.enc3norm2.running_mean\", \"encoder3.enc3norm2.running_var\", \"encoder3.enc3norm2.num_batches_tracked\", \"encoder4.enc4conv1.weight\", \"encoder4.enc4norm1.weight\", \"encoder4.enc4norm1.bias\", \"encoder4.enc4norm1.running_mean\", \"encoder4.enc4norm1.running_var\", \"encoder4.enc4norm1.num_batches_tracked\", \"encoder4.enc4conv2.weight\", \"encoder4.enc4norm2.weight\", \"encoder4.enc4norm2.bias\", \"encoder4.enc4norm2.running_mean\", \"encoder4.enc4norm2.running_var\", \"encoder4.enc4norm2.num_batches_tracked\", \"bottleneck.bottleneckconv1.weight\", \"bottleneck.bottlenecknorm1.weight\", \"bottleneck.bottlenecknorm1.bias\", \"bottleneck.bottlenecknorm1.running_mean\", \"bottleneck.bottlenecknorm1.running_var\", \"bottleneck.bottlenecknorm1.num_batches_tracked\", \"bottleneck.bottleneckconv2.weight\", \"bottleneck.bottlenecknorm2.weight\", \"bottleneck.bottlenecknorm2.bias\", \"bottleneck.bottlenecknorm2.running_mean\", \"bottleneck.bottlenecknorm2.running_var\", \"bottleneck.bottlenecknorm2.num_batches_tracked\", \"decoder4.dec4conv1.weight\", \"decoder4.dec4norm1.weight\", \"decoder4.dec4norm1.bias\", \"decoder4.dec4norm1.running_mean\", \"decoder4.dec4norm1.running_var\", \"decoder4.dec4norm1.num_batches_tracked\", \"decoder4.dec4conv2.weight\", \"decoder4.dec4norm2.weight\", \"decoder4.dec4norm2.bias\", \"decoder4.dec4norm2.running_mean\", \"decoder4.dec4norm2.running_var\", \"decoder4.dec4norm2.num_batches_tracked\", \"decoder3.dec3conv1.weight\", \"decoder3.dec3norm1.weight\", \"decoder3.dec3norm1.bias\", \"decoder3.dec3norm1.running_mean\", \"decoder3.dec3norm1.running_var\", \"decoder3.dec3norm1.num_batches_tracked\", \"decoder3.dec3conv2.weight\", \"decoder3.dec3norm2.weight\", \"decoder3.dec3norm2.bias\", \"decoder3.dec3norm2.running_mean\", \"decoder3.dec3norm2.running_var\", \"decoder3.dec3norm2.num_batches_tracked\", \"decoder2.dec2conv1.weight\", \"decoder2.dec2norm1.weight\", \"decoder2.dec2norm1.bias\", \"decoder2.dec2norm1.running_mean\", \"decoder2.dec2norm1.running_var\", \"decoder2.dec2norm1.num_batches_tracked\", \"decoder2.dec2conv2.weight\", \"decoder2.dec2norm2.weight\", \"decoder2.dec2norm2.bias\", \"decoder2.dec2norm2.running_mean\", \"decoder2.dec2norm2.running_var\", \"decoder2.dec2norm2.num_batches_tracked\", \"decoder1.dec1conv1.weight\", \"decoder1.dec1norm1.weight\", \"decoder1.dec1norm1.bias\", \"decoder1.dec1norm1.running_mean\", \"decoder1.dec1norm1.running_var\", \"decoder1.dec1norm1.num_batches_tracked\", \"decoder1.dec1conv2.weight\", \"decoder1.dec1norm2.weight\", \"decoder1.dec1norm2.bias\", \"decoder1.dec1norm2.running_mean\", \"decoder1.dec1norm2.running_var\", \"decoder1.dec1norm2.num_batches_tracked\". "
     ]
    }
   ],
   "source": [
    "import numpy as np\n",
    "from matplotlib import pyplot as plt\n",
    "\n",
    "def categorical_dice(mask1, mask2, label_class=1):\n",
    "    \"\"\"\n",
    "    Dice score of a specified class between two volumes of label masks.\n",
    "    (classes are encoded but by label class number not one-hot )\n",
    "    Note: stacks of 2D slices are considered volumes.\n",
    "\n",
    "    Args:\n",
    "        mask1: N label masks, numpy array shaped (H, W, N)\n",
    "        mask2: N label masks, numpy array shaped (H, W, N)\n",
    "        label_class: the class over which to calculate dice scores\n",
    "\n",
    "    Returns:\n",
    "        volume_dice\n",
    "    \"\"\"\n",
    "    mask1_pos = (mask1 == label_class).astype(np.float32)\n",
    "    mask2_pos = (mask2 == label_class).astype(np.float32)\n",
    "    dice = 2 * np.sum(mask1_pos * mask2_pos) / (np.sum(mask1_pos) + np.sum(mask2_pos))\n",
    "    return dice\n",
    "\n",
    "############################################### Evaluation Model ####################################################\n",
    "\n",
    "path = 'best_model.pth'\n",
    "val_data_path = './data/val'\n",
    "num_workers = 0\n",
    "batch_size = 4\n",
    "val_set = TrainDataset(val_data_path)\n",
    "val_data_loader = DataLoader(dataset=val_set, num_workers=num_workers, batch_size=batch_size, shuffle=True)\n",
    "\n",
    "#这里是CPU加载GPU的数据多加了参数：map_location=torch.device('cpu')，GPU加载GPU的数据无需这个参数\n",
    "model.load_state_dict(torch.load(path,map_location=torch.device('cpu')))\n",
    "model.eval()\n",
    "for iteration, sample in enumerate(val_data_loader):\n",
    "    val_img, val_mask = sample\n",
    "    val_img, val_mask = val_img.to(device),val_mask.to(device)\n",
    "    val_img = val_img.unsqueeze(1)\n",
    "    val_img = model(val_img)\n",
    "    val_pred = torch.argmax(val_img.squeeze(1), dim=1)\n",
    "    val_mask, val_pred = val_mask.data.cpu().numpy(), val_pred.data.cpu().numpy()\n",
    "    loss = Loss(val_pred.float(),val_mask.long())\n",
    "    print('val_loss:{:.4f}'.format(loss.item()))\n",
    "    \n",
    "    ave_accuracy1,ave_accuracy2,ave_accuracy3 = [],[],[]\n",
    "    ave_accuracy1.append(categorical_dice(np.array(val_pred), np.array(val_mask), 1))\n",
    "    ave_accuracy2.append(categorical_dice(np.array(val_pred), np.array(val_mask), 2))\n",
    "    ave_accuracy3.append(categorical_dice(np.array(val_pred), np.array(val_mask), 3))\n",
    "    \n",
    "    print('ave_accuracy for class1:{:.4f}'.format(np.mean(ave_accuracy1)))\n",
    "    print('ave_accuracy for class2:{:.4f}'.format(np.mean(ave_accuracy2)))\n",
    "    print('ave_accuracy for class3:{:.4f}'.format(np.mean(ave_accuracy3)))\n",
    "    print('ave_accuracy for ALL class:{:.4f}'.format((np.mean(ave_accuracy1)+np.mean(ave_accuracy2)+np.mean(ave_accuracy3))/3))\n",
    "    print('--'*10)\n",
    "    \n",
    "    #visualise all images in test set\n",
    "    #plt.imshow(val_pred[0,...].squeeze(), cmap='gray') \n",
    "    #plt.pause(1)"
   ]
  },
  {
   "cell_type": "markdown",
   "metadata": {
    "id": "JZcsrwmVjy5k"
   },
   "source": [
    "### 3.2 Submission\n",
    "\n",
    "Kaggle requires your submission to be in a specific CSV format. To help ensure your submissions are in the correct format, we have provided some helper functions to do this for you. For those interested, the png images are run-length encoded and saved in a CSV to the specifications required by our competition.\n",
    "\n",
    "It is sufficient to use this helper function. To do so, save your 80 predicted masks into a directory. ONLY the 80 predicted masks should be in this directory. Call the submission_converter function with the first argument as the directory containing your masks, and the second the directory in which you wish to save your submission."
   ]
  },
  {
   "cell_type": "code",
   "execution_count": 42,
   "metadata": {
    "id": "uHDVbgu0qW_V"
   },
   "outputs": [],
   "source": [
    "import numpy as np\n",
    "import os\n",
    "import cv2\n",
    "\n",
    "def rle_encoding(x):\n",
    "    '''\n",
    "    *** Credit to https://www.kaggle.com/rakhlin/fast-run-length-encoding-python ***\n",
    "    x: numpy array of shape (height, width), 1 - mask, 0 - background\n",
    "    Returns run length as list\n",
    "    '''\n",
    "    dots = np.where(x.T.flatten() == 1)[0]\n",
    "    run_lengths = []\n",
    "    prev = -2\n",
    "    for b in dots:\n",
    "        if (b > prev + 1): run_lengths.extend((b + 1, 0))\n",
    "        run_lengths[-1] += 1\n",
    "        prev = b\n",
    "    return run_lengths\n",
    "\n",
    "\n",
    "def submission_converter(mask_directory, path_to_save):\n",
    "    writer = open(os.path.join(path_to_save, \"submission.csv\"), 'w')\n",
    "    writer.write('id,encoding\\n')\n",
    "\n",
    "    files = os.listdir(mask_directory)\n",
    "\n",
    "    for file in files:\n",
    "        name = file[:-4]\n",
    "        mask = cv2.imread(os.path.join(mask_directory, file), cv2.IMREAD_UNCHANGED)\n",
    "\n",
    "        mask1 = (mask == 1)\n",
    "        mask2 = (mask == 2)\n",
    "        mask3 = (mask == 3)\n",
    "\n",
    "        encoded_mask1 = rle_encoding(mask1)\n",
    "        encoded_mask1 = ' '.join(str(e) for e in encoded_mask1)\n",
    "        encoded_mask2 = rle_encoding(mask2)\n",
    "        encoded_mask2 = ' '.join(str(e) for e in encoded_mask2)\n",
    "        encoded_mask3 = rle_encoding(mask3)\n",
    "        encoded_mask3 = ' '.join(str(e) for e in encoded_mask3)\n",
    "\n",
    "        writer.write(name + '1,' + encoded_mask1 + \"\\n\")\n",
    "        writer.write(name + '2,' + encoded_mask2 + \"\\n\")\n",
    "        writer.write(name + '3,' + encoded_mask3 + \"\\n\")\n",
    "\n",
    "    writer.close()"
   ]
  },
  {
   "cell_type": "code",
   "execution_count": 43,
   "metadata": {
    "id": "-bOn_j_FqW_V"
   },
   "outputs": [
    {
     "ename": "AttributeError",
     "evalue": "'bool' object has no attribute 'T'",
     "output_type": "error",
     "traceback": [
      "\u001b[0;31m---------------------------------------------------------------------------\u001b[0m",
      "\u001b[0;31mAttributeError\u001b[0m                            Traceback (most recent call last)",
      "\u001b[0;32m<ipython-input-43-71c8a40cef90>\u001b[0m in \u001b[0;36m<module>\u001b[0;34m\u001b[0m\n\u001b[1;32m      1\u001b[0m \u001b[0mmask_dir\u001b[0m \u001b[0;34m=\u001b[0m \u001b[0;34m'./data/test/mask'\u001b[0m\u001b[0;34m\u001b[0m\u001b[0;34m\u001b[0m\u001b[0m\n\u001b[1;32m      2\u001b[0m \u001b[0mpath_to_save\u001b[0m \u001b[0;34m=\u001b[0m \u001b[0;34m'./data/test/submission'\u001b[0m\u001b[0;34m\u001b[0m\u001b[0;34m\u001b[0m\u001b[0m\n\u001b[0;32m----> 3\u001b[0;31m \u001b[0msubmission_converter\u001b[0m\u001b[0;34m(\u001b[0m\u001b[0mmask_dir\u001b[0m\u001b[0;34m,\u001b[0m \u001b[0mpath_to_save\u001b[0m\u001b[0;34m)\u001b[0m\u001b[0;34m\u001b[0m\u001b[0;34m\u001b[0m\u001b[0m\n\u001b[0m",
      "\u001b[0;32m<ipython-input-42-3858857254f1>\u001b[0m in \u001b[0;36msubmission_converter\u001b[0;34m(mask_directory, path_to_save)\u001b[0m\n\u001b[1;32m     33\u001b[0m         \u001b[0mmask3\u001b[0m \u001b[0;34m=\u001b[0m \u001b[0;34m(\u001b[0m\u001b[0mmask\u001b[0m \u001b[0;34m==\u001b[0m \u001b[0;36m3\u001b[0m\u001b[0;34m)\u001b[0m\u001b[0;34m\u001b[0m\u001b[0;34m\u001b[0m\u001b[0m\n\u001b[1;32m     34\u001b[0m \u001b[0;34m\u001b[0m\u001b[0m\n\u001b[0;32m---> 35\u001b[0;31m         \u001b[0mencoded_mask1\u001b[0m \u001b[0;34m=\u001b[0m \u001b[0mrle_encoding\u001b[0m\u001b[0;34m(\u001b[0m\u001b[0mmask1\u001b[0m\u001b[0;34m)\u001b[0m\u001b[0;34m\u001b[0m\u001b[0;34m\u001b[0m\u001b[0m\n\u001b[0m\u001b[1;32m     36\u001b[0m         \u001b[0mencoded_mask1\u001b[0m \u001b[0;34m=\u001b[0m \u001b[0;34m' '\u001b[0m\u001b[0;34m.\u001b[0m\u001b[0mjoin\u001b[0m\u001b[0;34m(\u001b[0m\u001b[0mstr\u001b[0m\u001b[0;34m(\u001b[0m\u001b[0me\u001b[0m\u001b[0;34m)\u001b[0m \u001b[0;32mfor\u001b[0m \u001b[0me\u001b[0m \u001b[0;32min\u001b[0m \u001b[0mencoded_mask1\u001b[0m\u001b[0;34m)\u001b[0m\u001b[0;34m\u001b[0m\u001b[0;34m\u001b[0m\u001b[0m\n\u001b[1;32m     37\u001b[0m         \u001b[0mencoded_mask2\u001b[0m \u001b[0;34m=\u001b[0m \u001b[0mrle_encoding\u001b[0m\u001b[0;34m(\u001b[0m\u001b[0mmask2\u001b[0m\u001b[0;34m)\u001b[0m\u001b[0;34m\u001b[0m\u001b[0;34m\u001b[0m\u001b[0m\n",
      "\u001b[0;32m<ipython-input-42-3858857254f1>\u001b[0m in \u001b[0;36mrle_encoding\u001b[0;34m(x)\u001b[0m\n\u001b[1;32m      9\u001b[0m     \u001b[0mReturns\u001b[0m \u001b[0mrun\u001b[0m \u001b[0mlength\u001b[0m \u001b[0;32mas\u001b[0m \u001b[0mlist\u001b[0m\u001b[0;34m\u001b[0m\u001b[0;34m\u001b[0m\u001b[0m\n\u001b[1;32m     10\u001b[0m     '''\n\u001b[0;32m---> 11\u001b[0;31m     \u001b[0mdots\u001b[0m \u001b[0;34m=\u001b[0m \u001b[0mnp\u001b[0m\u001b[0;34m.\u001b[0m\u001b[0mwhere\u001b[0m\u001b[0;34m(\u001b[0m\u001b[0mx\u001b[0m\u001b[0;34m.\u001b[0m\u001b[0mT\u001b[0m\u001b[0;34m.\u001b[0m\u001b[0mflatten\u001b[0m\u001b[0;34m(\u001b[0m\u001b[0;34m)\u001b[0m \u001b[0;34m==\u001b[0m \u001b[0;36m1\u001b[0m\u001b[0;34m)\u001b[0m\u001b[0;34m[\u001b[0m\u001b[0;36m0\u001b[0m\u001b[0;34m]\u001b[0m\u001b[0;34m\u001b[0m\u001b[0;34m\u001b[0m\u001b[0m\n\u001b[0m\u001b[1;32m     12\u001b[0m     \u001b[0mrun_lengths\u001b[0m \u001b[0;34m=\u001b[0m \u001b[0;34m[\u001b[0m\u001b[0;34m]\u001b[0m\u001b[0;34m\u001b[0m\u001b[0;34m\u001b[0m\u001b[0m\n\u001b[1;32m     13\u001b[0m     \u001b[0mprev\u001b[0m \u001b[0;34m=\u001b[0m \u001b[0;34m-\u001b[0m\u001b[0;36m2\u001b[0m\u001b[0;34m\u001b[0m\u001b[0;34m\u001b[0m\u001b[0m\n",
      "\u001b[0;31mAttributeError\u001b[0m: 'bool' object has no attribute 'T'"
     ]
    }
   ],
   "source": [
    "mask_dir = './data/test/mask'\n",
    "path_to_save = './data/test/submission'\n",
    "submission_converter(mask_dir, path_to_save)"
   ]
  },
  {
   "cell_type": "code",
   "execution_count": null,
   "metadata": {},
   "outputs": [],
   "source": []
  }
 ],
 "metadata": {
  "colab": {
   "collapsed_sections": [],
   "name": "CW2.ipynb",
   "provenance": []
  },
  "kernelspec": {
   "display_name": "Python 3",
   "language": "python",
   "name": "python3"
  },
  "language_info": {
   "codemirror_mode": {
    "name": "ipython",
    "version": 3
   },
   "file_extension": ".py",
   "mimetype": "text/x-python",
   "name": "python",
   "nbconvert_exporter": "python",
   "pygments_lexer": "ipython3",
   "version": "3.7.6"
  }
 },
 "nbformat": 4,
 "nbformat_minor": 1
}
