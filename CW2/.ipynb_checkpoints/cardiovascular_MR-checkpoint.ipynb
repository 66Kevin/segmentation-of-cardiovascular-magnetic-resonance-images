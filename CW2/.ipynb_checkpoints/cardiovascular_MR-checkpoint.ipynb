{
 "cells": [
  {
   "cell_type": "code",
   "execution_count": 24,
   "metadata": {},
   "outputs": [],
   "source": [
    "import os\n",
    "\n",
    "import torch\n",
    "import cv2\n",
    "import numpy as np\n",
    "from matplotlib import pyplot"
   ]
  },
  {
   "cell_type": "markdown",
   "metadata": {},
   "source": [
    "# Preprocessing Data"
   ]
  },
  {
   "cell_type": "code",
   "execution_count": 25,
   "metadata": {},
   "outputs": [],
   "source": [
    "class Dataset:\n",
    "    \n",
    "    in_channels = 1\n",
    "    out_channels = 4\n",
    "    \n",
    "    def __init__(self, location):\n",
    "        self.location = location\n",
    "        self.train_imgs = os.listdir(self.location + '/train/image')\n",
    "        self.val_imgs = os.listdir(self.location + '/val/image')\n",
    "        self.test_imgs = os.listdir(self.location + '/test/image')\n",
    "\n",
    "    def load_data(self):\n",
    "        train_data = []\n",
    "        val_data = []\n",
    "        test_data = []\n",
    "\n",
    "        num = len(self.train_imgs)\n",
    "        for i in range(num):\n",
    "            img = cv2.imread('data/train/image/' + self.train_imgs[i])\n",
    "            train_data.append(img)\n",
    "\n",
    "        num = len(self.val_imgs)\n",
    "        for i in range(num):\n",
    "            img = cv2.imread('data/val/image/' + self.val_imgs[i])\n",
    "            val_data.append(img)\n",
    "\n",
    "        num = len(self.test_imgs)\n",
    "        for i in range(num):\n",
    "            img = cv2.imread('data/test/image/' + self.test_imgs[i])\n",
    "            test_data.append(img)\n",
    "\n",
    "        return np.array(train_data), np.array(val_data), np.array(test_data)\n",
    "    \n",
    "    def normalized(self, data):\n",
    "        data = data/255\n",
    "        return data\n",
    "\n",
    "    def get_train_test_data():\n",
    "        \n",
    "        train_data, val_data, test_data = self.load_data()\n",
    "        \n",
    "        return\n",
    "    "
   ]
  },
  {
   "cell_type": "code",
   "execution_count": 27,
   "metadata": {},
   "outputs": [
    {
     "name": "stdout",
     "output_type": "stream",
     "text": [
      "(96, 96, 3)\n",
      "(100, 96, 96, 3)\n"
     ]
    },
    {
     "data": {
      "image/png": "[encoded data removed]",
      "text/plain": [
       "<Figure size 432x288 with 1 Axes>"
      ]
     },
     "metadata": {
      "needs_background": "light"
     },
     "output_type": "display_data"
    }
   ],
   "source": [
    "ds = Dataset('data/')\n",
    "train_data, val_data, test_data = ds.load_data()\n",
    "data = train_data[0]\n",
    "print(data.shape)\n",
    "print(train_data.shape)\n",
    "pyplot.imshow(data)\n",
    "pyplot.show()"
   ]
  },
  {
   "cell_type": "markdown",
   "metadata": {},
   "source": [
    "# Loss Function"
   ]
  },
  {
   "cell_type": "code",
   "execution_count": null,
   "metadata": {},
   "outputs": [],
   "source": []
  },
  {
   "cell_type": "markdown",
   "metadata": {},
   "source": [
    "# Models"
   ]
  },
  {
   "cell_type": "markdown",
   "metadata": {},
   "source": [
    "## U-net"
   ]
  },
  {
   "cell_type": "code",
   "execution_count": 30,
   "metadata": {},
   "outputs": [],
   "source": [
    "def unet(x,y):\n",
    "    inputs = Input((x,y, 1))\n",
    "    \n",
    "    conv1 = Conv2D(32, (3, 3), padding='same')(inputs)\n",
    "    conv1 = Activation(\"relu\")(conv1)\n",
    "    \n",
    "    conv2 = Conv2D(32, (3, 3), padding='same')(conv1)\n",
    "    conv2 = Activation(\"relu\")(conv2)\n",
    "    \n",
    "    pool2 = MaxPooling2D(pool_size=(2, 2))(conv2)\n",
    "    drop2 = Dropout(0.5)(pool2)\n",
    "\n",
    "    conv3 = Conv2D(64, (3, 3), padding='same')(drop2)\n",
    "    conv3 = Activation(\"relu\")(conv3)\n",
    "\n",
    "    conv4 = Conv2D(64, (3, 3), padding='same')(conv3)\n",
    "    conv4 = Activation(\"relu\")(conv4)\n",
    "\n",
    "    pool4 = MaxPooling2D(pool_size=(2, 2))(conv4)\n",
    "    drop4 = Dropout(0.5)(pool4)\n",
    "\n",
    "    conv5 = Conv2D(128, (3, 3), padding='same')(drop4)\n",
    "    conv5 = Activation(\"relu\")(conv5)\n",
    "\n",
    "    conv6 = Conv2D(128, (3, 3), padding='same')(conv5)\n",
    "    conv6 = Activation(\"relu\")(conv6)\n",
    "    \n",
    "    up7 = concatenate([Conv2DTranspose(64, (2, 2), strides=(2, 2), padding='same')(conv6), conv4], axis=3)\n",
    "    conv7 = Conv2D(64, (3, 3), padding='same')(up7)\n",
    "    conv7 = Activation(\"relu\")(conv7)\n",
    "\n",
    "    conv8 = Conv2D(64, (3, 3), padding='same')(conv7)\n",
    "    conv8 = Activation(\"relu\")(conv8)\n",
    "\n",
    "    up9 = concatenate([Conv2DTranspose(32, (2, 2), strides=(2, 2), padding='same')(conv8), conv2], axis=3)\n",
    "    conv9 = Conv2D(32, (3, 3), padding='same')(up9)\n",
    "    conv9 = Activation(\"relu\")(conv9)\n",
    "\n",
    "    conv10 = Conv2D(32, (3, 3), padding='same')(conv9)\n",
    "    conv10 = Activation(\"relu\")(conv10)\n",
    "\n",
    "    conv11 = Conv2D(1, (1, 1), activation='sigmoid')(conv10)\n",
    "\n",
    "    model = Model(inputs=[inputs], outputs=[conv11])\n",
    "\n",
    "    return model"
   ]
  },
  {
   "cell_type": "markdown",
   "metadata": {},
   "source": [
    "# Training"
   ]
  },
  {
   "cell_type": "code",
   "execution_count": null,
   "metadata": {},
   "outputs": [],
   "source": []
  },
  {
   "cell_type": "markdown",
   "metadata": {},
   "source": [
    "# Evaluation"
   ]
  },
  {
   "cell_type": "code",
   "execution_count": null,
   "metadata": {},
   "outputs": [],
   "source": []
  },
  {
   "cell_type": "markdown",
   "metadata": {},
   "source": [
    "# Predict"
   ]
  },
  {
   "cell_type": "code",
   "execution_count": null,
   "metadata": {},
   "outputs": [],
   "source": []
  }
 ],
 "metadata": {
  "kernelspec": {
   "display_name": "Python 3",
   "language": "python",
   "name": "python3"
  },
  "language_info": {
   "codemirror_mode": {
    "name": "ipython",
    "version": 3
   },
   "file_extension": ".py",
   "mimetype": "text/x-python",
   "name": "python",
   "nbconvert_exporter": "python",
   "pygments_lexer": "ipython3",
   "version": "3.7.6"
  }
 },
 "nbformat": 4,
 "nbformat_minor": 4
}
